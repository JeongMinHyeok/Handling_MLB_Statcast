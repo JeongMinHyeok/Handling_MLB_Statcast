{
 "cells": [
  {
   "cell_type": "markdown",
   "id": "eb45ccd7-0612-4d0f-8d31-46ac1f74e6f9",
   "metadata": {},
   "source": [
    "# 머신러닝으로 2021시즌 MLB 타자들의 홈런갯수 예측해보기\n",
    "\n",
    "1. EDA & Feature Engineering\n",
    "2. Modeling & Prediction\n",
    "\n",
    "---\n",
    "### 칼럼\n",
    "- 'last_name'\n",
    "- 'first_name'\n",
    "- 'player_id'\n",
    "- 'year'\n",
    "- 'b_ab'\n",
    "- 'b_total_pa'\n",
    "- 'b_home_run'\n",
    "- 'batting_avg'\n",
    "- 'slg_percent'\n",
    "- 'on_base_percent',\n",
    "- 'on_base_plus_slg'\n",
    "- 'xba'\n",
    "- 'xslg'\n",
    "- 'woba'\n",
    "- 'xwoba'\n",
    "- 'xobp'\n",
    "- 'xiso'\n",
    "- 'wobacon'\n",
    "- 'xwobacon'\n",
    "- 'bacon'\n",
    "- 'xbacon'\n",
    "- 'xbadiff'\n",
    "- 'xslgdiff',\n",
    "- 'wobadif'\n",
    "- 'exit_velocity_avg'\n",
    "- 'launch_angle_avg',\n",
    "- 'sweet_spot_percent'\n",
    "- 'barrels'\n",
    "- 'barrel_batted_rate',\n",
    "- 'poorlyweak_percent'\n",
    "- 'hard_hit_percent'\n",
    "- 'z_swing_percent',\n",
    "- 'z_swing_miss_percent'\n",
    "- 'oz_swing_miss_percent'\n",
    "- 'oz_contact_percent',\n",
    "- 'groundballs_percent'\n",
    "- 'flyballs_percent'\n",
    "- 'linedrives_percent',\n",
    "---\n",
    "\n",
    "## EDA & Feature Engineering\n",
    "- Train Dataset : 2015년 ~ 2020년 타자들의 성적 및 홈런갯수\n",
    "- Test Dataset : 2021년(7월 21일기준) 타자들의 성적 및 홈런갯수 (출전게임 수 포함 / Prediction 시 홈런 칼럼 삭제)"
   ]
  },
  {
   "cell_type": "code",
   "execution_count": 11,
   "id": "ebfa0835-fd28-44bd-940d-d0e7fbf21306",
   "metadata": {},
   "outputs": [],
   "source": [
    "import pandas as pd\n",
    "\n",
    "df_old = pd.read_csv('2015_2020.csv')\n",
    "df_now = pd.read_csv('2021.csv')"
   ]
  },
  {
   "cell_type": "code",
   "execution_count": 2,
   "id": "de330904-d325-4a03-bb17-0a751823458f",
   "metadata": {},
   "outputs": [
    {
     "data": {
      "text/html": [
       "<div>\n",
       "<style scoped>\n",
       "    .dataframe tbody tr th:only-of-type {\n",
       "        vertical-align: middle;\n",
       "    }\n",
       "\n",
       "    .dataframe tbody tr th {\n",
       "        vertical-align: top;\n",
       "    }\n",
       "\n",
       "    .dataframe thead th {\n",
       "        text-align: right;\n",
       "    }\n",
       "</style>\n",
       "<table border=\"1\" class=\"dataframe\">\n",
       "  <thead>\n",
       "    <tr style=\"text-align: right;\">\n",
       "      <th></th>\n",
       "      <th>last_name</th>\n",
       "      <th>first_name</th>\n",
       "      <th>player_id</th>\n",
       "      <th>year</th>\n",
       "      <th>b_ab</th>\n",
       "      <th>b_total_pa</th>\n",
       "      <th>b_home_run</th>\n",
       "      <th>batting_avg</th>\n",
       "      <th>slg_percent</th>\n",
       "      <th>on_base_percent</th>\n",
       "      <th>...</th>\n",
       "      <th>poorlyweak_percent</th>\n",
       "      <th>hard_hit_percent</th>\n",
       "      <th>z_swing_percent</th>\n",
       "      <th>z_swing_miss_percent</th>\n",
       "      <th>oz_swing_miss_percent</th>\n",
       "      <th>oz_contact_percent</th>\n",
       "      <th>groundballs_percent</th>\n",
       "      <th>flyballs_percent</th>\n",
       "      <th>linedrives_percent</th>\n",
       "      <th>Unnamed: 38</th>\n",
       "    </tr>\n",
       "  </thead>\n",
       "  <tbody>\n",
       "    <tr>\n",
       "      <th>0</th>\n",
       "      <td>Cabrera</td>\n",
       "      <td>Miguel</td>\n",
       "      <td>408234</td>\n",
       "      <td>2020</td>\n",
       "      <td>204</td>\n",
       "      <td>231</td>\n",
       "      <td>10</td>\n",
       "      <td>0.250</td>\n",
       "      <td>0.417</td>\n",
       "      <td>0.329</td>\n",
       "      <td>...</td>\n",
       "      <td>1.3</td>\n",
       "      <td>49.7</td>\n",
       "      <td>70.5</td>\n",
       "      <td>18.4</td>\n",
       "      <td>55.9</td>\n",
       "      <td>44.1</td>\n",
       "      <td>42.6</td>\n",
       "      <td>16.8</td>\n",
       "      <td>35.5</td>\n",
       "      <td>NaN</td>\n",
       "    </tr>\n",
       "    <tr>\n",
       "      <th>1</th>\n",
       "      <td>Cruz Jr.</td>\n",
       "      <td>Nelson</td>\n",
       "      <td>443558</td>\n",
       "      <td>2020</td>\n",
       "      <td>185</td>\n",
       "      <td>214</td>\n",
       "      <td>16</td>\n",
       "      <td>0.303</td>\n",
       "      <td>0.595</td>\n",
       "      <td>0.397</td>\n",
       "      <td>...</td>\n",
       "      <td>3.1</td>\n",
       "      <td>47.2</td>\n",
       "      <td>68.3</td>\n",
       "      <td>22.0</td>\n",
       "      <td>56.3</td>\n",
       "      <td>43.8</td>\n",
       "      <td>47.2</td>\n",
       "      <td>16.5</td>\n",
       "      <td>30.7</td>\n",
       "      <td>NaN</td>\n",
       "    </tr>\n",
       "    <tr>\n",
       "      <th>2</th>\n",
       "      <td>Peralta</td>\n",
       "      <td>David</td>\n",
       "      <td>444482</td>\n",
       "      <td>2020</td>\n",
       "      <td>203</td>\n",
       "      <td>218</td>\n",
       "      <td>5</td>\n",
       "      <td>0.300</td>\n",
       "      <td>0.433</td>\n",
       "      <td>0.339</td>\n",
       "      <td>...</td>\n",
       "      <td>1.3</td>\n",
       "      <td>36.3</td>\n",
       "      <td>65.5</td>\n",
       "      <td>15.5</td>\n",
       "      <td>35.8</td>\n",
       "      <td>64.2</td>\n",
       "      <td>51.2</td>\n",
       "      <td>16.9</td>\n",
       "      <td>27.5</td>\n",
       "      <td>NaN</td>\n",
       "    </tr>\n",
       "    <tr>\n",
       "      <th>3</th>\n",
       "      <td>Longoria</td>\n",
       "      <td>Evan</td>\n",
       "      <td>446334</td>\n",
       "      <td>2020</td>\n",
       "      <td>193</td>\n",
       "      <td>209</td>\n",
       "      <td>7</td>\n",
       "      <td>0.254</td>\n",
       "      <td>0.425</td>\n",
       "      <td>0.297</td>\n",
       "      <td>...</td>\n",
       "      <td>3.2</td>\n",
       "      <td>45.2</td>\n",
       "      <td>62.4</td>\n",
       "      <td>12.2</td>\n",
       "      <td>40.5</td>\n",
       "      <td>59.5</td>\n",
       "      <td>50.3</td>\n",
       "      <td>23.6</td>\n",
       "      <td>23.6</td>\n",
       "      <td>NaN</td>\n",
       "    </tr>\n",
       "    <tr>\n",
       "      <th>4</th>\n",
       "      <td>Cabrera</td>\n",
       "      <td>Asdrubal</td>\n",
       "      <td>452678</td>\n",
       "      <td>2020</td>\n",
       "      <td>190</td>\n",
       "      <td>213</td>\n",
       "      <td>8</td>\n",
       "      <td>0.242</td>\n",
       "      <td>0.447</td>\n",
       "      <td>0.305</td>\n",
       "      <td>...</td>\n",
       "      <td>1.9</td>\n",
       "      <td>38.3</td>\n",
       "      <td>66.8</td>\n",
       "      <td>12.3</td>\n",
       "      <td>36.9</td>\n",
       "      <td>62.3</td>\n",
       "      <td>45.5</td>\n",
       "      <td>19.5</td>\n",
       "      <td>26.6</td>\n",
       "      <td>NaN</td>\n",
       "    </tr>\n",
       "  </tbody>\n",
       "</table>\n",
       "<p>5 rows × 39 columns</p>\n",
       "</div>"
      ],
      "text/plain": [
       "  last_name  first_name  player_id  year  b_ab  b_total_pa  b_home_run  \\\n",
       "0   Cabrera      Miguel     408234  2020   204         231          10   \n",
       "1  Cruz Jr.      Nelson     443558  2020   185         214          16   \n",
       "2   Peralta       David     444482  2020   203         218           5   \n",
       "3  Longoria        Evan     446334  2020   193         209           7   \n",
       "4   Cabrera    Asdrubal     452678  2020   190         213           8   \n",
       "\n",
       "   batting_avg  slg_percent  on_base_percent  ...  poorlyweak_percent  \\\n",
       "0        0.250        0.417            0.329  ...                 1.3   \n",
       "1        0.303        0.595            0.397  ...                 3.1   \n",
       "2        0.300        0.433            0.339  ...                 1.3   \n",
       "3        0.254        0.425            0.297  ...                 3.2   \n",
       "4        0.242        0.447            0.305  ...                 1.9   \n",
       "\n",
       "   hard_hit_percent  z_swing_percent  z_swing_miss_percent  \\\n",
       "0              49.7             70.5                  18.4   \n",
       "1              47.2             68.3                  22.0   \n",
       "2              36.3             65.5                  15.5   \n",
       "3              45.2             62.4                  12.2   \n",
       "4              38.3             66.8                  12.3   \n",
       "\n",
       "   oz_swing_miss_percent  oz_contact_percent  groundballs_percent  \\\n",
       "0                   55.9                44.1                 42.6   \n",
       "1                   56.3                43.8                 47.2   \n",
       "2                   35.8                64.2                 51.2   \n",
       "3                   40.5                59.5                 50.3   \n",
       "4                   36.9                62.3                 45.5   \n",
       "\n",
       "   flyballs_percent  linedrives_percent  Unnamed: 38  \n",
       "0              16.8                35.5          NaN  \n",
       "1              16.5                30.7          NaN  \n",
       "2              16.9                27.5          NaN  \n",
       "3              23.6                23.6          NaN  \n",
       "4              19.5                26.6          NaN  \n",
       "\n",
       "[5 rows x 39 columns]"
      ]
     },
     "execution_count": 2,
     "metadata": {},
     "output_type": "execute_result"
    }
   ],
   "source": [
    "# 2015 ~ 2020 데이터 살펴보기\n",
    "df_old.head()"
   ]
  },
  {
   "cell_type": "code",
   "execution_count": 3,
   "id": "8a15bdca-6271-4a6e-8567-b0fa2d4cb4ee",
   "metadata": {},
   "outputs": [
    {
     "data": {
      "text/html": [
       "<div>\n",
       "<style scoped>\n",
       "    .dataframe tbody tr th:only-of-type {\n",
       "        vertical-align: middle;\n",
       "    }\n",
       "\n",
       "    .dataframe tbody tr th {\n",
       "        vertical-align: top;\n",
       "    }\n",
       "\n",
       "    .dataframe thead th {\n",
       "        text-align: right;\n",
       "    }\n",
       "</style>\n",
       "<table border=\"1\" class=\"dataframe\">\n",
       "  <thead>\n",
       "    <tr style=\"text-align: right;\">\n",
       "      <th></th>\n",
       "      <th>last_name</th>\n",
       "      <th>first_name</th>\n",
       "      <th>player_id</th>\n",
       "      <th>year</th>\n",
       "      <th>b_ab</th>\n",
       "      <th>b_total_pa</th>\n",
       "      <th>b_home_run</th>\n",
       "      <th>batting_avg</th>\n",
       "      <th>slg_percent</th>\n",
       "      <th>on_base_percent</th>\n",
       "      <th>...</th>\n",
       "      <th>poorlyweak_percent</th>\n",
       "      <th>hard_hit_percent</th>\n",
       "      <th>z_swing_percent</th>\n",
       "      <th>z_swing_miss_percent</th>\n",
       "      <th>oz_swing_miss_percent</th>\n",
       "      <th>oz_contact_percent</th>\n",
       "      <th>groundballs_percent</th>\n",
       "      <th>flyballs_percent</th>\n",
       "      <th>linedrives_percent</th>\n",
       "      <th>Unnamed: 39</th>\n",
       "    </tr>\n",
       "  </thead>\n",
       "  <tbody>\n",
       "    <tr>\n",
       "      <th>0</th>\n",
       "      <td>Cabrera</td>\n",
       "      <td>Miguel</td>\n",
       "      <td>408234</td>\n",
       "      <td>2021</td>\n",
       "      <td>268</td>\n",
       "      <td>292</td>\n",
       "      <td>7</td>\n",
       "      <td>0.243</td>\n",
       "      <td>0.347</td>\n",
       "      <td>0.298</td>\n",
       "      <td>...</td>\n",
       "      <td>3.1</td>\n",
       "      <td>48.5</td>\n",
       "      <td>68.2</td>\n",
       "      <td>20.9</td>\n",
       "      <td>41.8</td>\n",
       "      <td>58.2</td>\n",
       "      <td>50.0</td>\n",
       "      <td>24.2</td>\n",
       "      <td>21.6</td>\n",
       "      <td>NaN</td>\n",
       "    </tr>\n",
       "    <tr>\n",
       "      <th>1</th>\n",
       "      <td>Cruz Jr.</td>\n",
       "      <td>Nelson</td>\n",
       "      <td>443558</td>\n",
       "      <td>2021</td>\n",
       "      <td>288</td>\n",
       "      <td>336</td>\n",
       "      <td>19</td>\n",
       "      <td>0.299</td>\n",
       "      <td>0.545</td>\n",
       "      <td>0.372</td>\n",
       "      <td>...</td>\n",
       "      <td>3.4</td>\n",
       "      <td>54.0</td>\n",
       "      <td>73.9</td>\n",
       "      <td>21.1</td>\n",
       "      <td>46.2</td>\n",
       "      <td>53.8</td>\n",
       "      <td>45.5</td>\n",
       "      <td>26.0</td>\n",
       "      <td>21.3</td>\n",
       "      <td>NaN</td>\n",
       "    </tr>\n",
       "    <tr>\n",
       "      <th>2</th>\n",
       "      <td>Peralta</td>\n",
       "      <td>David</td>\n",
       "      <td>444482</td>\n",
       "      <td>2021</td>\n",
       "      <td>311</td>\n",
       "      <td>345</td>\n",
       "      <td>4</td>\n",
       "      <td>0.254</td>\n",
       "      <td>0.399</td>\n",
       "      <td>0.328</td>\n",
       "      <td>...</td>\n",
       "      <td>3.9</td>\n",
       "      <td>41.1</td>\n",
       "      <td>65.7</td>\n",
       "      <td>13.7</td>\n",
       "      <td>41.0</td>\n",
       "      <td>58.4</td>\n",
       "      <td>53.5</td>\n",
       "      <td>14.7</td>\n",
       "      <td>24.8</td>\n",
       "      <td>NaN</td>\n",
       "    </tr>\n",
       "    <tr>\n",
       "      <th>3</th>\n",
       "      <td>Blackmon</td>\n",
       "      <td>Charlie</td>\n",
       "      <td>453568</td>\n",
       "      <td>2021</td>\n",
       "      <td>291</td>\n",
       "      <td>336</td>\n",
       "      <td>5</td>\n",
       "      <td>0.261</td>\n",
       "      <td>0.364</td>\n",
       "      <td>0.357</td>\n",
       "      <td>...</td>\n",
       "      <td>6.0</td>\n",
       "      <td>40.9</td>\n",
       "      <td>67.0</td>\n",
       "      <td>13.1</td>\n",
       "      <td>31.2</td>\n",
       "      <td>68.1</td>\n",
       "      <td>51.2</td>\n",
       "      <td>22.2</td>\n",
       "      <td>21.8</td>\n",
       "      <td>NaN</td>\n",
       "    </tr>\n",
       "    <tr>\n",
       "      <th>4</th>\n",
       "      <td>McCutchen</td>\n",
       "      <td>Andrew</td>\n",
       "      <td>457705</td>\n",
       "      <td>2021</td>\n",
       "      <td>288</td>\n",
       "      <td>353</td>\n",
       "      <td>16</td>\n",
       "      <td>0.229</td>\n",
       "      <td>0.441</td>\n",
       "      <td>0.351</td>\n",
       "      <td>...</td>\n",
       "      <td>4.1</td>\n",
       "      <td>38.2</td>\n",
       "      <td>62.4</td>\n",
       "      <td>19.4</td>\n",
       "      <td>47.8</td>\n",
       "      <td>51.5</td>\n",
       "      <td>45.2</td>\n",
       "      <td>28.1</td>\n",
       "      <td>20.7</td>\n",
       "      <td>NaN</td>\n",
       "    </tr>\n",
       "  </tbody>\n",
       "</table>\n",
       "<p>5 rows × 40 columns</p>\n",
       "</div>"
      ],
      "text/plain": [
       "   last_name  first_name  player_id  year  b_ab  b_total_pa  b_home_run  \\\n",
       "0    Cabrera      Miguel     408234  2021   268         292           7   \n",
       "1   Cruz Jr.      Nelson     443558  2021   288         336          19   \n",
       "2    Peralta       David     444482  2021   311         345           4   \n",
       "3   Blackmon     Charlie     453568  2021   291         336           5   \n",
       "4  McCutchen      Andrew     457705  2021   288         353          16   \n",
       "\n",
       "   batting_avg  slg_percent  on_base_percent  ...  poorlyweak_percent  \\\n",
       "0        0.243        0.347            0.298  ...                 3.1   \n",
       "1        0.299        0.545            0.372  ...                 3.4   \n",
       "2        0.254        0.399            0.328  ...                 3.9   \n",
       "3        0.261        0.364            0.357  ...                 6.0   \n",
       "4        0.229        0.441            0.351  ...                 4.1   \n",
       "\n",
       "   hard_hit_percent  z_swing_percent  z_swing_miss_percent  \\\n",
       "0              48.5             68.2                  20.9   \n",
       "1              54.0             73.9                  21.1   \n",
       "2              41.1             65.7                  13.7   \n",
       "3              40.9             67.0                  13.1   \n",
       "4              38.2             62.4                  19.4   \n",
       "\n",
       "   oz_swing_miss_percent  oz_contact_percent  groundballs_percent  \\\n",
       "0                   41.8                58.2                 50.0   \n",
       "1                   46.2                53.8                 45.5   \n",
       "2                   41.0                58.4                 53.5   \n",
       "3                   31.2                68.1                 51.2   \n",
       "4                   47.8                51.5                 45.2   \n",
       "\n",
       "   flyballs_percent  linedrives_percent  Unnamed: 39  \n",
       "0              24.2                21.6          NaN  \n",
       "1              26.0                21.3          NaN  \n",
       "2              14.7                24.8          NaN  \n",
       "3              22.2                21.8          NaN  \n",
       "4              28.1                20.7          NaN  \n",
       "\n",
       "[5 rows x 40 columns]"
      ]
     },
     "execution_count": 3,
     "metadata": {},
     "output_type": "execute_result"
    }
   ],
   "source": [
    "df_now.head()"
   ]
  },
  {
   "cell_type": "code",
   "execution_count": 4,
   "id": "62a49f0b-d763-4083-861d-ceaf227107c1",
   "metadata": {},
   "outputs": [
    {
     "name": "stdout",
     "output_type": "stream",
     "text": [
      "(850, 39)\n",
      "(137, 40)\n"
     ]
    }
   ],
   "source": [
    "print(df_old.shape)\n",
    "print(df_now.shape)"
   ]
  },
  {
   "cell_type": "code",
   "execution_count": 5,
   "id": "e2eb3d85-91ff-45fc-a5c0-585d4a942dfe",
   "metadata": {},
   "outputs": [
    {
     "data": {
      "text/html": [
       "<div>\n",
       "<style scoped>\n",
       "    .dataframe tbody tr th:only-of-type {\n",
       "        vertical-align: middle;\n",
       "    }\n",
       "\n",
       "    .dataframe tbody tr th {\n",
       "        vertical-align: top;\n",
       "    }\n",
       "\n",
       "    .dataframe thead th {\n",
       "        text-align: right;\n",
       "    }\n",
       "</style>\n",
       "<table border=\"1\" class=\"dataframe\">\n",
       "  <thead>\n",
       "    <tr style=\"text-align: right;\">\n",
       "      <th></th>\n",
       "      <th>player_id</th>\n",
       "      <th>year</th>\n",
       "      <th>b_ab</th>\n",
       "      <th>b_total_pa</th>\n",
       "      <th>b_home_run</th>\n",
       "      <th>batting_avg</th>\n",
       "      <th>slg_percent</th>\n",
       "      <th>on_base_percent</th>\n",
       "      <th>on_base_plus_slg</th>\n",
       "      <th>xba</th>\n",
       "      <th>...</th>\n",
       "      <th>poorlyweak_percent</th>\n",
       "      <th>hard_hit_percent</th>\n",
       "      <th>z_swing_percent</th>\n",
       "      <th>z_swing_miss_percent</th>\n",
       "      <th>oz_swing_miss_percent</th>\n",
       "      <th>oz_contact_percent</th>\n",
       "      <th>groundballs_percent</th>\n",
       "      <th>flyballs_percent</th>\n",
       "      <th>linedrives_percent</th>\n",
       "      <th>Unnamed: 38</th>\n",
       "    </tr>\n",
       "  </thead>\n",
       "  <tbody>\n",
       "    <tr>\n",
       "      <th>count</th>\n",
       "      <td>850.000000</td>\n",
       "      <td>850.000000</td>\n",
       "      <td>850.000000</td>\n",
       "      <td>850.000000</td>\n",
       "      <td>850.000000</td>\n",
       "      <td>850.000000</td>\n",
       "      <td>850.000000</td>\n",
       "      <td>850.000000</td>\n",
       "      <td>850.000000</td>\n",
       "      <td>850.000000</td>\n",
       "      <td>...</td>\n",
       "      <td>850.000000</td>\n",
       "      <td>850.000000</td>\n",
       "      <td>850.000000</td>\n",
       "      <td>850.000000</td>\n",
       "      <td>850.000000</td>\n",
       "      <td>850.000000</td>\n",
       "      <td>850.000000</td>\n",
       "      <td>850.000000</td>\n",
       "      <td>850.000000</td>\n",
       "      <td>0.0</td>\n",
       "    </tr>\n",
       "    <tr>\n",
       "      <th>mean</th>\n",
       "      <td>532467.815294</td>\n",
       "      <td>2017.478824</td>\n",
       "      <td>484.424706</td>\n",
       "      <td>542.834118</td>\n",
       "      <td>19.751765</td>\n",
       "      <td>0.269154</td>\n",
       "      <td>0.456747</td>\n",
       "      <td>0.339328</td>\n",
       "      <td>0.796065</td>\n",
       "      <td>0.258485</td>\n",
       "      <td>...</td>\n",
       "      <td>3.285059</td>\n",
       "      <td>37.854471</td>\n",
       "      <td>67.362235</td>\n",
       "      <td>15.931412</td>\n",
       "      <td>38.478235</td>\n",
       "      <td>61.069882</td>\n",
       "      <td>43.831765</td>\n",
       "      <td>22.639882</td>\n",
       "      <td>26.575294</td>\n",
       "      <td>NaN</td>\n",
       "    </tr>\n",
       "    <tr>\n",
       "      <th>std</th>\n",
       "      <td>84431.889886</td>\n",
       "      <td>1.708469</td>\n",
       "      <td>137.434493</td>\n",
       "      <td>153.269187</td>\n",
       "      <td>10.664971</td>\n",
       "      <td>0.029226</td>\n",
       "      <td>0.067431</td>\n",
       "      <td>0.034835</td>\n",
       "      <td>0.093873</td>\n",
       "      <td>0.023549</td>\n",
       "      <td>...</td>\n",
       "      <td>1.551177</td>\n",
       "      <td>7.618133</td>\n",
       "      <td>5.987985</td>\n",
       "      <td>5.326779</td>\n",
       "      <td>9.234247</td>\n",
       "      <td>9.129303</td>\n",
       "      <td>6.732918</td>\n",
       "      <td>5.030910</td>\n",
       "      <td>3.478350</td>\n",
       "      <td>NaN</td>\n",
       "    </tr>\n",
       "    <tr>\n",
       "      <th>min</th>\n",
       "      <td>116338.000000</td>\n",
       "      <td>2015.000000</td>\n",
       "      <td>154.000000</td>\n",
       "      <td>186.000000</td>\n",
       "      <td>1.000000</td>\n",
       "      <td>0.168000</td>\n",
       "      <td>0.266000</td>\n",
       "      <td>0.238000</td>\n",
       "      <td>0.539000</td>\n",
       "      <td>0.186000</td>\n",
       "      <td>...</td>\n",
       "      <td>0.400000</td>\n",
       "      <td>8.500000</td>\n",
       "      <td>47.600000</td>\n",
       "      <td>3.600000</td>\n",
       "      <td>16.500000</td>\n",
       "      <td>29.500000</td>\n",
       "      <td>25.400000</td>\n",
       "      <td>8.500000</td>\n",
       "      <td>15.200000</td>\n",
       "      <td>NaN</td>\n",
       "    </tr>\n",
       "    <tr>\n",
       "      <th>25%</th>\n",
       "      <td>462101.000000</td>\n",
       "      <td>2016.000000</td>\n",
       "      <td>470.000000</td>\n",
       "      <td>523.000000</td>\n",
       "      <td>11.000000</td>\n",
       "      <td>0.250000</td>\n",
       "      <td>0.411000</td>\n",
       "      <td>0.315000</td>\n",
       "      <td>0.732000</td>\n",
       "      <td>0.243000</td>\n",
       "      <td>...</td>\n",
       "      <td>2.100000</td>\n",
       "      <td>33.500000</td>\n",
       "      <td>63.600000</td>\n",
       "      <td>11.900000</td>\n",
       "      <td>31.900000</td>\n",
       "      <td>55.225000</td>\n",
       "      <td>38.825000</td>\n",
       "      <td>19.125000</td>\n",
       "      <td>24.200000</td>\n",
       "      <td>NaN</td>\n",
       "    </tr>\n",
       "    <tr>\n",
       "      <th>50%</th>\n",
       "      <td>543333.000000</td>\n",
       "      <td>2017.000000</td>\n",
       "      <td>525.000000</td>\n",
       "      <td>587.500000</td>\n",
       "      <td>19.000000</td>\n",
       "      <td>0.268500</td>\n",
       "      <td>0.450500</td>\n",
       "      <td>0.337500</td>\n",
       "      <td>0.789500</td>\n",
       "      <td>0.258000</td>\n",
       "      <td>...</td>\n",
       "      <td>3.100000</td>\n",
       "      <td>38.400000</td>\n",
       "      <td>67.400000</td>\n",
       "      <td>15.700000</td>\n",
       "      <td>38.400000</td>\n",
       "      <td>61.300000</td>\n",
       "      <td>43.600000</td>\n",
       "      <td>22.600000</td>\n",
       "      <td>26.300000</td>\n",
       "      <td>NaN</td>\n",
       "    </tr>\n",
       "    <tr>\n",
       "      <th>75%</th>\n",
       "      <td>595879.000000</td>\n",
       "      <td>2019.000000</td>\n",
       "      <td>575.000000</td>\n",
       "      <td>648.000000</td>\n",
       "      <td>27.000000</td>\n",
       "      <td>0.289000</td>\n",
       "      <td>0.501750</td>\n",
       "      <td>0.360000</td>\n",
       "      <td>0.850000</td>\n",
       "      <td>0.274000</td>\n",
       "      <td>...</td>\n",
       "      <td>4.100000</td>\n",
       "      <td>42.900000</td>\n",
       "      <td>71.400000</td>\n",
       "      <td>19.275000</td>\n",
       "      <td>44.200000</td>\n",
       "      <td>67.500000</td>\n",
       "      <td>48.400000</td>\n",
       "      <td>26.100000</td>\n",
       "      <td>28.600000</td>\n",
       "      <td>NaN</td>\n",
       "    </tr>\n",
       "    <tr>\n",
       "      <th>max</th>\n",
       "      <td>673357.000000</td>\n",
       "      <td>2020.000000</td>\n",
       "      <td>681.000000</td>\n",
       "      <td>747.000000</td>\n",
       "      <td>59.000000</td>\n",
       "      <td>0.364000</td>\n",
       "      <td>0.695000</td>\n",
       "      <td>0.490000</td>\n",
       "      <td>1.185000</td>\n",
       "      <td>0.338000</td>\n",
       "      <td>...</td>\n",
       "      <td>12.400000</td>\n",
       "      <td>62.200000</td>\n",
       "      <td>84.100000</td>\n",
       "      <td>35.600000</td>\n",
       "      <td>70.500000</td>\n",
       "      <td>83.100000</td>\n",
       "      <td>63.700000</td>\n",
       "      <td>37.900000</td>\n",
       "      <td>40.400000</td>\n",
       "      <td>NaN</td>\n",
       "    </tr>\n",
       "  </tbody>\n",
       "</table>\n",
       "<p>8 rows × 37 columns</p>\n",
       "</div>"
      ],
      "text/plain": [
       "           player_id         year        b_ab  b_total_pa  b_home_run  \\\n",
       "count     850.000000   850.000000  850.000000  850.000000  850.000000   \n",
       "mean   532467.815294  2017.478824  484.424706  542.834118   19.751765   \n",
       "std     84431.889886     1.708469  137.434493  153.269187   10.664971   \n",
       "min    116338.000000  2015.000000  154.000000  186.000000    1.000000   \n",
       "25%    462101.000000  2016.000000  470.000000  523.000000   11.000000   \n",
       "50%    543333.000000  2017.000000  525.000000  587.500000   19.000000   \n",
       "75%    595879.000000  2019.000000  575.000000  648.000000   27.000000   \n",
       "max    673357.000000  2020.000000  681.000000  747.000000   59.000000   \n",
       "\n",
       "       batting_avg  slg_percent  on_base_percent  on_base_plus_slg  \\\n",
       "count   850.000000   850.000000       850.000000        850.000000   \n",
       "mean      0.269154     0.456747         0.339328          0.796065   \n",
       "std       0.029226     0.067431         0.034835          0.093873   \n",
       "min       0.168000     0.266000         0.238000          0.539000   \n",
       "25%       0.250000     0.411000         0.315000          0.732000   \n",
       "50%       0.268500     0.450500         0.337500          0.789500   \n",
       "75%       0.289000     0.501750         0.360000          0.850000   \n",
       "max       0.364000     0.695000         0.490000          1.185000   \n",
       "\n",
       "              xba  ...  poorlyweak_percent  hard_hit_percent  z_swing_percent  \\\n",
       "count  850.000000  ...          850.000000        850.000000       850.000000   \n",
       "mean     0.258485  ...            3.285059         37.854471        67.362235   \n",
       "std      0.023549  ...            1.551177          7.618133         5.987985   \n",
       "min      0.186000  ...            0.400000          8.500000        47.600000   \n",
       "25%      0.243000  ...            2.100000         33.500000        63.600000   \n",
       "50%      0.258000  ...            3.100000         38.400000        67.400000   \n",
       "75%      0.274000  ...            4.100000         42.900000        71.400000   \n",
       "max      0.338000  ...           12.400000         62.200000        84.100000   \n",
       "\n",
       "       z_swing_miss_percent  oz_swing_miss_percent  oz_contact_percent  \\\n",
       "count            850.000000             850.000000          850.000000   \n",
       "mean              15.931412              38.478235           61.069882   \n",
       "std                5.326779               9.234247            9.129303   \n",
       "min                3.600000              16.500000           29.500000   \n",
       "25%               11.900000              31.900000           55.225000   \n",
       "50%               15.700000              38.400000           61.300000   \n",
       "75%               19.275000              44.200000           67.500000   \n",
       "max               35.600000              70.500000           83.100000   \n",
       "\n",
       "       groundballs_percent  flyballs_percent  linedrives_percent  Unnamed: 38  \n",
       "count           850.000000        850.000000          850.000000          0.0  \n",
       "mean             43.831765         22.639882           26.575294          NaN  \n",
       "std               6.732918          5.030910            3.478350          NaN  \n",
       "min              25.400000          8.500000           15.200000          NaN  \n",
       "25%              38.825000         19.125000           24.200000          NaN  \n",
       "50%              43.600000         22.600000           26.300000          NaN  \n",
       "75%              48.400000         26.100000           28.600000          NaN  \n",
       "max              63.700000         37.900000           40.400000          NaN  \n",
       "\n",
       "[8 rows x 37 columns]"
      ]
     },
     "execution_count": 5,
     "metadata": {},
     "output_type": "execute_result"
    }
   ],
   "source": [
    "df_old.describe()"
   ]
  },
  {
   "cell_type": "code",
   "execution_count": 6,
   "id": "7e16ada0-d056-4829-8b74-a918e53f0435",
   "metadata": {},
   "outputs": [
    {
     "data": {
      "text/html": [
       "<div>\n",
       "<style scoped>\n",
       "    .dataframe tbody tr th:only-of-type {\n",
       "        vertical-align: middle;\n",
       "    }\n",
       "\n",
       "    .dataframe tbody tr th {\n",
       "        vertical-align: top;\n",
       "    }\n",
       "\n",
       "    .dataframe thead th {\n",
       "        text-align: right;\n",
       "    }\n",
       "</style>\n",
       "<table border=\"1\" class=\"dataframe\">\n",
       "  <thead>\n",
       "    <tr style=\"text-align: right;\">\n",
       "      <th></th>\n",
       "      <th>player_id</th>\n",
       "      <th>year</th>\n",
       "      <th>b_ab</th>\n",
       "      <th>b_total_pa</th>\n",
       "      <th>b_home_run</th>\n",
       "      <th>batting_avg</th>\n",
       "      <th>slg_percent</th>\n",
       "      <th>on_base_percent</th>\n",
       "      <th>on_base_plus_slg</th>\n",
       "      <th>b_game</th>\n",
       "      <th>...</th>\n",
       "      <th>poorlyweak_percent</th>\n",
       "      <th>hard_hit_percent</th>\n",
       "      <th>z_swing_percent</th>\n",
       "      <th>z_swing_miss_percent</th>\n",
       "      <th>oz_swing_miss_percent</th>\n",
       "      <th>oz_contact_percent</th>\n",
       "      <th>groundballs_percent</th>\n",
       "      <th>flyballs_percent</th>\n",
       "      <th>linedrives_percent</th>\n",
       "      <th>Unnamed: 39</th>\n",
       "    </tr>\n",
       "  </thead>\n",
       "  <tbody>\n",
       "    <tr>\n",
       "      <th>count</th>\n",
       "      <td>137.000000</td>\n",
       "      <td>137.0</td>\n",
       "      <td>137.000000</td>\n",
       "      <td>137.000000</td>\n",
       "      <td>137.000000</td>\n",
       "      <td>137.000000</td>\n",
       "      <td>137.000000</td>\n",
       "      <td>137.000000</td>\n",
       "      <td>137.000000</td>\n",
       "      <td>137.000000</td>\n",
       "      <td>...</td>\n",
       "      <td>137.000000</td>\n",
       "      <td>137.000000</td>\n",
       "      <td>137.000000</td>\n",
       "      <td>137.000000</td>\n",
       "      <td>137.000000</td>\n",
       "      <td>137.000000</td>\n",
       "      <td>137.000000</td>\n",
       "      <td>137.000000</td>\n",
       "      <td>137.000000</td>\n",
       "      <td>0.0</td>\n",
       "    </tr>\n",
       "    <tr>\n",
       "      <th>mean</th>\n",
       "      <td>595719.262774</td>\n",
       "      <td>2021.0</td>\n",
       "      <td>310.941606</td>\n",
       "      <td>350.233577</td>\n",
       "      <td>13.284672</td>\n",
       "      <td>0.262781</td>\n",
       "      <td>0.450839</td>\n",
       "      <td>0.336781</td>\n",
       "      <td>0.787628</td>\n",
       "      <td>85.240876</td>\n",
       "      <td>...</td>\n",
       "      <td>3.758394</td>\n",
       "      <td>42.387591</td>\n",
       "      <td>68.420438</td>\n",
       "      <td>17.716788</td>\n",
       "      <td>41.940876</td>\n",
       "      <td>57.811679</td>\n",
       "      <td>43.043796</td>\n",
       "      <td>26.451825</td>\n",
       "      <td>24.099270</td>\n",
       "      <td>NaN</td>\n",
       "    </tr>\n",
       "    <tr>\n",
       "      <th>std</th>\n",
       "      <td>64329.176044</td>\n",
       "      <td>0.0</td>\n",
       "      <td>29.072113</td>\n",
       "      <td>31.006940</td>\n",
       "      <td>6.347706</td>\n",
       "      <td>0.028865</td>\n",
       "      <td>0.073066</td>\n",
       "      <td>0.034879</td>\n",
       "      <td>0.097520</td>\n",
       "      <td>5.754187</td>\n",
       "      <td>...</td>\n",
       "      <td>1.644181</td>\n",
       "      <td>7.224147</td>\n",
       "      <td>5.577623</td>\n",
       "      <td>5.396521</td>\n",
       "      <td>9.116280</td>\n",
       "      <td>9.090267</td>\n",
       "      <td>6.852542</td>\n",
       "      <td>5.568796</td>\n",
       "      <td>3.470495</td>\n",
       "      <td>NaN</td>\n",
       "    </tr>\n",
       "    <tr>\n",
       "      <th>min</th>\n",
       "      <td>408234.000000</td>\n",
       "      <td>2021.0</td>\n",
       "      <td>242.000000</td>\n",
       "      <td>291.000000</td>\n",
       "      <td>2.000000</td>\n",
       "      <td>0.170000</td>\n",
       "      <td>0.271000</td>\n",
       "      <td>0.249000</td>\n",
       "      <td>0.520000</td>\n",
       "      <td>70.000000</td>\n",
       "      <td>...</td>\n",
       "      <td>0.500000</td>\n",
       "      <td>17.900000</td>\n",
       "      <td>57.400000</td>\n",
       "      <td>6.300000</td>\n",
       "      <td>18.700000</td>\n",
       "      <td>32.500000</td>\n",
       "      <td>27.000000</td>\n",
       "      <td>13.100000</td>\n",
       "      <td>16.900000</td>\n",
       "      <td>NaN</td>\n",
       "    </tr>\n",
       "    <tr>\n",
       "      <th>25%</th>\n",
       "      <td>547180.000000</td>\n",
       "      <td>2021.0</td>\n",
       "      <td>288.000000</td>\n",
       "      <td>328.000000</td>\n",
       "      <td>8.000000</td>\n",
       "      <td>0.246000</td>\n",
       "      <td>0.399000</td>\n",
       "      <td>0.313000</td>\n",
       "      <td>0.724000</td>\n",
       "      <td>82.000000</td>\n",
       "      <td>...</td>\n",
       "      <td>2.600000</td>\n",
       "      <td>38.200000</td>\n",
       "      <td>64.500000</td>\n",
       "      <td>14.300000</td>\n",
       "      <td>36.600000</td>\n",
       "      <td>51.200000</td>\n",
       "      <td>38.500000</td>\n",
       "      <td>22.800000</td>\n",
       "      <td>21.400000</td>\n",
       "      <td>NaN</td>\n",
       "    </tr>\n",
       "    <tr>\n",
       "      <th>50%</th>\n",
       "      <td>605141.000000</td>\n",
       "      <td>2021.0</td>\n",
       "      <td>311.000000</td>\n",
       "      <td>352.000000</td>\n",
       "      <td>14.000000</td>\n",
       "      <td>0.262000</td>\n",
       "      <td>0.449000</td>\n",
       "      <td>0.337000</td>\n",
       "      <td>0.784000</td>\n",
       "      <td>86.000000</td>\n",
       "      <td>...</td>\n",
       "      <td>3.400000</td>\n",
       "      <td>42.600000</td>\n",
       "      <td>67.000000</td>\n",
       "      <td>17.700000</td>\n",
       "      <td>41.800000</td>\n",
       "      <td>57.900000</td>\n",
       "      <td>42.100000</td>\n",
       "      <td>26.100000</td>\n",
       "      <td>23.900000</td>\n",
       "      <td>NaN</td>\n",
       "    </tr>\n",
       "    <tr>\n",
       "      <th>75%</th>\n",
       "      <td>656775.000000</td>\n",
       "      <td>2021.0</td>\n",
       "      <td>334.000000</td>\n",
       "      <td>376.000000</td>\n",
       "      <td>17.000000</td>\n",
       "      <td>0.277000</td>\n",
       "      <td>0.492000</td>\n",
       "      <td>0.360000</td>\n",
       "      <td>0.835000</td>\n",
       "      <td>90.000000</td>\n",
       "      <td>...</td>\n",
       "      <td>4.800000</td>\n",
       "      <td>46.500000</td>\n",
       "      <td>72.500000</td>\n",
       "      <td>21.200000</td>\n",
       "      <td>48.400000</td>\n",
       "      <td>63.400000</td>\n",
       "      <td>47.900000</td>\n",
       "      <td>30.300000</td>\n",
       "      <td>26.100000</td>\n",
       "      <td>NaN</td>\n",
       "    </tr>\n",
       "    <tr>\n",
       "      <th>max</th>\n",
       "      <td>670541.000000</td>\n",
       "      <td>2021.0</td>\n",
       "      <td>375.000000</td>\n",
       "      <td>410.000000</td>\n",
       "      <td>34.000000</td>\n",
       "      <td>0.329000</td>\n",
       "      <td>0.686000</td>\n",
       "      <td>0.427000</td>\n",
       "      <td>1.095000</td>\n",
       "      <td>94.000000</td>\n",
       "      <td>...</td>\n",
       "      <td>9.400000</td>\n",
       "      <td>58.300000</td>\n",
       "      <td>83.300000</td>\n",
       "      <td>32.200000</td>\n",
       "      <td>67.500000</td>\n",
       "      <td>81.300000</td>\n",
       "      <td>67.900000</td>\n",
       "      <td>40.500000</td>\n",
       "      <td>34.700000</td>\n",
       "      <td>NaN</td>\n",
       "    </tr>\n",
       "  </tbody>\n",
       "</table>\n",
       "<p>8 rows × 38 columns</p>\n",
       "</div>"
      ],
      "text/plain": [
       "           player_id    year        b_ab  b_total_pa  b_home_run  batting_avg  \\\n",
       "count     137.000000   137.0  137.000000  137.000000  137.000000   137.000000   \n",
       "mean   595719.262774  2021.0  310.941606  350.233577   13.284672     0.262781   \n",
       "std     64329.176044     0.0   29.072113   31.006940    6.347706     0.028865   \n",
       "min    408234.000000  2021.0  242.000000  291.000000    2.000000     0.170000   \n",
       "25%    547180.000000  2021.0  288.000000  328.000000    8.000000     0.246000   \n",
       "50%    605141.000000  2021.0  311.000000  352.000000   14.000000     0.262000   \n",
       "75%    656775.000000  2021.0  334.000000  376.000000   17.000000     0.277000   \n",
       "max    670541.000000  2021.0  375.000000  410.000000   34.000000     0.329000   \n",
       "\n",
       "       slg_percent  on_base_percent  on_base_plus_slg      b_game  ...  \\\n",
       "count   137.000000       137.000000        137.000000  137.000000  ...   \n",
       "mean      0.450839         0.336781          0.787628   85.240876  ...   \n",
       "std       0.073066         0.034879          0.097520    5.754187  ...   \n",
       "min       0.271000         0.249000          0.520000   70.000000  ...   \n",
       "25%       0.399000         0.313000          0.724000   82.000000  ...   \n",
       "50%       0.449000         0.337000          0.784000   86.000000  ...   \n",
       "75%       0.492000         0.360000          0.835000   90.000000  ...   \n",
       "max       0.686000         0.427000          1.095000   94.000000  ...   \n",
       "\n",
       "       poorlyweak_percent  hard_hit_percent  z_swing_percent  \\\n",
       "count          137.000000        137.000000       137.000000   \n",
       "mean             3.758394         42.387591        68.420438   \n",
       "std              1.644181          7.224147         5.577623   \n",
       "min              0.500000         17.900000        57.400000   \n",
       "25%              2.600000         38.200000        64.500000   \n",
       "50%              3.400000         42.600000        67.000000   \n",
       "75%              4.800000         46.500000        72.500000   \n",
       "max              9.400000         58.300000        83.300000   \n",
       "\n",
       "       z_swing_miss_percent  oz_swing_miss_percent  oz_contact_percent  \\\n",
       "count            137.000000             137.000000          137.000000   \n",
       "mean              17.716788              41.940876           57.811679   \n",
       "std                5.396521               9.116280            9.090267   \n",
       "min                6.300000              18.700000           32.500000   \n",
       "25%               14.300000              36.600000           51.200000   \n",
       "50%               17.700000              41.800000           57.900000   \n",
       "75%               21.200000              48.400000           63.400000   \n",
       "max               32.200000              67.500000           81.300000   \n",
       "\n",
       "       groundballs_percent  flyballs_percent  linedrives_percent  Unnamed: 39  \n",
       "count           137.000000        137.000000          137.000000          0.0  \n",
       "mean             43.043796         26.451825           24.099270          NaN  \n",
       "std               6.852542          5.568796            3.470495          NaN  \n",
       "min              27.000000         13.100000           16.900000          NaN  \n",
       "25%              38.500000         22.800000           21.400000          NaN  \n",
       "50%              42.100000         26.100000           23.900000          NaN  \n",
       "75%              47.900000         30.300000           26.100000          NaN  \n",
       "max              67.900000         40.500000           34.700000          NaN  \n",
       "\n",
       "[8 rows x 38 columns]"
      ]
     },
     "execution_count": 6,
     "metadata": {},
     "output_type": "execute_result"
    }
   ],
   "source": [
    "df_now.describe()"
   ]
  },
  {
   "cell_type": "code",
   "execution_count": 7,
   "id": "0780e280-a1ff-4192-988e-ec2100bb29be",
   "metadata": {},
   "outputs": [
    {
     "data": {
      "text/plain": [
       "Index(['last_name', ' first_name', 'player_id', 'year', 'b_ab', 'b_total_pa',\n",
       "       'b_home_run', 'batting_avg', 'slg_percent', 'on_base_percent',\n",
       "       'on_base_plus_slg', 'xba', 'xslg', 'woba', 'xwoba', 'xobp', 'xiso',\n",
       "       'wobacon', 'xwobacon', 'bacon', 'xbacon', 'xbadiff', 'xslgdiff',\n",
       "       'wobadif', 'exit_velocity_avg', 'launch_angle_avg',\n",
       "       'sweet_spot_percent', 'barrels', 'barrel_batted_rate',\n",
       "       'poorlyweak_percent', 'hard_hit_percent', 'z_swing_percent',\n",
       "       'z_swing_miss_percent', 'oz_swing_miss_percent', 'oz_contact_percent',\n",
       "       'groundballs_percent', 'flyballs_percent', 'linedrives_percent',\n",
       "       'Unnamed: 38'],\n",
       "      dtype='object')"
      ]
     },
     "execution_count": 7,
     "metadata": {},
     "output_type": "execute_result"
    }
   ],
   "source": [
    "df_old.columns"
   ]
  },
  {
   "cell_type": "code",
   "execution_count": 8,
   "id": "9dd03b3a-9405-413e-9256-eeda70cbe15c",
   "metadata": {},
   "outputs": [
    {
     "data": {
      "text/plain": [
       "Index(['last_name', ' first_name', 'player_id', 'year', 'b_ab', 'b_total_pa',\n",
       "       'b_home_run', 'batting_avg', 'slg_percent', 'on_base_percent',\n",
       "       'on_base_plus_slg', 'b_game', 'xba', 'xslg', 'woba', 'xwoba', 'xobp',\n",
       "       'xiso', 'wobacon', 'xwobacon', 'bacon', 'xbacon', 'xbadiff', 'xslgdiff',\n",
       "       'wobadif', 'exit_velocity_avg', 'launch_angle_avg',\n",
       "       'sweet_spot_percent', 'barrels', 'barrel_batted_rate',\n",
       "       'poorlyweak_percent', 'hard_hit_percent', 'z_swing_percent',\n",
       "       'z_swing_miss_percent', 'oz_swing_miss_percent', 'oz_contact_percent',\n",
       "       'groundballs_percent', 'flyballs_percent', 'linedrives_percent',\n",
       "       'Unnamed: 39'],\n",
       "      dtype='object')"
      ]
     },
     "execution_count": 8,
     "metadata": {},
     "output_type": "execute_result"
    }
   ],
   "source": [
    "df_now.columns"
   ]
  },
  {
   "cell_type": "markdown",
   "id": "328a6a6d-4f00-443c-8ae4-c04605e1efdb",
   "metadata": {},
   "source": [
    "### 필요없는 칼럼 삭제\n",
    "- 선수이름, Unnamed:(?) 칼럼 삭제\n",
    "- 2020년 데이터 삭제 (단축시즌이었기 때문에)\n",
    "- 연도표시 칼럼 삭제\n",
    "- 2021년 데이터의 player_id, 이름은 따로 저장 (예측때 사용)"
   ]
  },
  {
   "cell_type": "code",
   "execution_count": 12,
   "id": "6c516e99-4a1d-4017-9223-1c6461d2e36f",
   "metadata": {},
   "outputs": [
    {
     "name": "stdout",
     "output_type": "stream",
     "text": [
      "(708, 35)\n",
      "Index(['player_id', 'b_ab', 'b_total_pa', 'b_home_run', 'batting_avg',\n",
      "       'slg_percent', 'on_base_percent', 'on_base_plus_slg', 'b_game', 'xba',\n",
      "       'xslg', 'woba', 'xwoba', 'xobp', 'xiso', 'wobacon', 'xwobacon', 'bacon',\n",
      "       'xbacon', 'xbadiff', 'xslgdiff', 'wobadif', 'exit_velocity_avg',\n",
      "       'launch_angle_avg', 'sweet_spot_percent', 'barrels',\n",
      "       'barrel_batted_rate', 'poorlyweak_percent', 'hard_hit_percent',\n",
      "       'z_swing_percent', 'z_swing_miss_percent', 'oz_swing_miss_percent',\n",
      "       'oz_contact_percent', 'groundballs_percent', 'flyballs_percent',\n",
      "       'linedrives_percent'],\n",
      "      dtype='object')\n"
     ]
    }
   ],
   "source": [
    "# 선수이름, Unamed 칼럼 삭제\n",
    "df_old = df_old.drop(['last_name', ' first_name', 'Unnamed: 38'], axis=1)\n",
    "player_id = df_now['player_id']\n",
    "name = df_now['last_name'] + df_now[' first_name']\n",
    "df_now = df_now.drop(['last_name', ' first_name', 'Unnamed: 39'], axis=1)\n",
    "\n",
    "# 2020년 데이터 삭제\n",
    "df_old = df_old[df_old.year != 2020]\n",
    "\n",
    "# 연도 칼럼 삭제\n",
    "df_old = df_old.drop(['year'], axis=1)\n",
    "df_now = df_now.drop(['year'], axis=1)\n",
    "\n",
    "print(df_old.shape)\n",
    "print(df_now.columns)"
   ]
  },
  {
   "cell_type": "markdown",
   "id": "eede2484-5bce-45b6-b0a5-45bf8600e2e0",
   "metadata": {},
   "source": [
    "### target (홈런개수) 살펴보기\n",
    "- 그래프를 통해 편향성 알아보기\n",
    "- 양의 왜도값을 가짐\n",
    "- log변환을 통해 정규성을 띄도록 변환한 값 확인"
   ]
  },
  {
   "cell_type": "code",
   "execution_count": 13,
   "id": "86b3633f-d1e0-42fc-91b0-9287eefbf5e6",
   "metadata": {},
   "outputs": [
    {
     "name": "stderr",
     "output_type": "stream",
     "text": [
      "/home/minding/anaconda3/lib/python3.8/site-packages/seaborn/distributions.py:2557: FutureWarning: `distplot` is a deprecated function and will be removed in a future version. Please adapt your code to use either `displot` (a figure-level function with similar flexibility) or `histplot` (an axes-level function for histograms).\n",
      "  warnings.warn(msg, FutureWarning)\n"
     ]
    },
    {
     "data": {
      "text/plain": [
       "<AxesSubplot:xlabel='b_home_run', ylabel='Density'>"
      ]
     },
     "execution_count": 13,
     "metadata": {},
     "output_type": "execute_result"
    },
    {
     "data": {
      "image/png": "[encoded data removed]",
      "text/plain": [
       "<Figure size 432x288 with 1 Axes>"
      ]
     },
     "metadata": {
      "needs_background": "light"
     },
     "output_type": "display_data"
    }
   ],
   "source": [
    "import matplotlib.pyplot as plt\n",
    "import seaborn as sns\n",
    "sns.set()\n",
    "%matplotlib inline\n",
    "\n",
    "sns.distplot(df_old['b_home_run'])"
   ]
  },
  {
   "cell_type": "code",
   "execution_count": 14,
   "id": "753098e1-3805-45f1-9339-b9b5594b35df",
   "metadata": {},
   "outputs": [
    {
     "name": "stderr",
     "output_type": "stream",
     "text": [
      "/home/minding/anaconda3/lib/python3.8/site-packages/seaborn/distributions.py:2557: FutureWarning: `distplot` is a deprecated function and will be removed in a future version. Please adapt your code to use either `displot` (a figure-level function with similar flexibility) or `histplot` (an axes-level function for histograms).\n",
      "  warnings.warn(msg, FutureWarning)\n"
     ]
    },
    {
     "data": {
      "text/plain": [
       "<AxesSubplot:xlabel='b_home_run', ylabel='Density'>"
      ]
     },
     "execution_count": 14,
     "metadata": {},
     "output_type": "execute_result"
    },
    {
     "data": {
      "image/png": "[encoded data removed]",
      "text/plain": [
       "<Figure size 432x288 with 1 Axes>"
      ]
     },
     "metadata": {
      "needs_background": "light"
     },
     "output_type": "display_data"
    }
   ],
   "source": [
    "# test set의 왜도값 분석 (삭제될 칼럼 - 얼추 비슷한 모양 보임)\n",
    "sns.distplot(df_now['b_home_run'])"
   ]
  },
  {
   "cell_type": "markdown",
   "id": "4076ccfa-1104-421e-9694-c94dd31a95cf",
   "metadata": {},
   "source": [
    "### 상관관계 분석"
   ]
  },
  {
   "cell_type": "code",
   "execution_count": 15,
   "id": "c1a21234-ad4d-4abc-b022-e74d02d7e133",
   "metadata": {},
   "outputs": [
    {
     "data": {
      "text/plain": [
       "Index(['b_home_run', 'slg_percent', 'on_base_plus_slg', 'xslg', 'woba',\n",
       "       'xwoba', 'xobp', 'xiso', 'wobacon', 'xwobacon', 'xbacon',\n",
       "       'exit_velocity_avg', 'launch_angle_avg', 'barrels',\n",
       "       'barrel_batted_rate', 'hard_hit_percent', 'z_swing_miss_percent',\n",
       "       'groundballs_percent', 'flyballs_percent'],\n",
       "      dtype='object')"
      ]
     },
     "execution_count": 15,
     "metadata": {},
     "output_type": "execute_result"
    }
   ],
   "source": [
    "corr = df_old.corr()\n",
    "corr_columns = corr.index[abs(corr['b_home_run']) >= 0.4]\n",
    "corr_columns"
   ]
  },
  {
   "cell_type": "code",
   "execution_count": 16,
   "id": "879c5f5e-e148-4c44-9fed-62c46efc9030",
   "metadata": {},
   "outputs": [
    {
     "data": {
      "image/png": "[encoded data removed]",
      "text/plain": [
       "<Figure size 936x720 with 2 Axes>"
      ]
     },
     "metadata": {
      "needs_background": "light"
     },
     "output_type": "display_data"
    }
   ],
   "source": [
    "# heatmap\n",
    "\n",
    "plt.figure(figsize=(13,10))\n",
    "heatmap = sns.heatmap(df_old[corr_columns].corr(),annot=True,cmap=\"RdYlGn\")"
   ]
  },
  {
   "cell_type": "markdown",
   "id": "e7ce5746-8c3e-453d-8866-a1097fc79ff4",
   "metadata": {},
   "source": [
    "- 다중공산성이 매우 높아 문제를 일으킬 가능성 높음\n",
    "\n",
    "#### VIF (Variance Inflation Factor) 사용\n",
    "- 다른 독립변수에 의존하는(VIF가 높은) 변수 삭제"
   ]
  },
  {
   "cell_type": "code",
   "execution_count": 17,
   "id": "d20a4c42-e8b3-4f3d-bcb4-ad74eee5fc61",
   "metadata": {},
   "outputs": [],
   "source": [
    "vif_old = df_old.drop(['groundballs_percent', 'oz_swing_miss_percent', 'z_swing_percent', 'z_swing_percent', 'batting_avg', 'slg_percent', 'on_base_percent', 'woba', 'wobacon', 'on_base_plus_slg', 'bacon'], axis=1)"
   ]
  },
  {
   "cell_type": "code",
   "execution_count": 18,
   "id": "265ceef6-b763-48c5-8814-c1849855c1ac",
   "metadata": {},
   "outputs": [],
   "source": [
    "# 지수표현 없애기 위한 옵션 설정\n",
    "pd.options.display.float_format = '{:.5f}'.format"
   ]
  },
  {
   "cell_type": "code",
   "execution_count": 19,
   "id": "6ee1f90e-4ce5-4edf-895c-74b70ffb6c77",
   "metadata": {},
   "outputs": [
    {
     "data": {
      "text/html": [
       "<div>\n",
       "<style scoped>\n",
       "    .dataframe tbody tr th:only-of-type {\n",
       "        vertical-align: middle;\n",
       "    }\n",
       "\n",
       "    .dataframe tbody tr th {\n",
       "        vertical-align: top;\n",
       "    }\n",
       "\n",
       "    .dataframe thead th {\n",
       "        text-align: right;\n",
       "    }\n",
       "</style>\n",
       "<table border=\"1\" class=\"dataframe\">\n",
       "  <thead>\n",
       "    <tr style=\"text-align: right;\">\n",
       "      <th></th>\n",
       "      <th>VIF Factor</th>\n",
       "      <th>features</th>\n",
       "    </tr>\n",
       "  </thead>\n",
       "  <tbody>\n",
       "    <tr>\n",
       "      <th>0</th>\n",
       "      <td>52.13555</td>\n",
       "      <td>player_id</td>\n",
       "    </tr>\n",
       "    <tr>\n",
       "      <th>1</th>\n",
       "      <td>25137.87518</td>\n",
       "      <td>b_ab</td>\n",
       "    </tr>\n",
       "    <tr>\n",
       "      <th>2</th>\n",
       "      <td>26528.65923</td>\n",
       "      <td>b_total_pa</td>\n",
       "    </tr>\n",
       "    <tr>\n",
       "      <th>3</th>\n",
       "      <td>120.44973</td>\n",
       "      <td>b_home_run</td>\n",
       "    </tr>\n",
       "    <tr>\n",
       "      <th>4</th>\n",
       "      <td>288719.08996</td>\n",
       "      <td>xba</td>\n",
       "    </tr>\n",
       "    <tr>\n",
       "      <th>5</th>\n",
       "      <td>841730.52080</td>\n",
       "      <td>xslg</td>\n",
       "    </tr>\n",
       "    <tr>\n",
       "      <th>6</th>\n",
       "      <td>22778.52214</td>\n",
       "      <td>xwoba</td>\n",
       "    </tr>\n",
       "    <tr>\n",
       "      <th>7</th>\n",
       "      <td>16845.90620</td>\n",
       "      <td>xobp</td>\n",
       "    </tr>\n",
       "    <tr>\n",
       "      <th>8</th>\n",
       "      <td>153516.75636</td>\n",
       "      <td>xiso</td>\n",
       "    </tr>\n",
       "    <tr>\n",
       "      <th>9</th>\n",
       "      <td>17018.87765</td>\n",
       "      <td>xwobacon</td>\n",
       "    </tr>\n",
       "    <tr>\n",
       "      <th>10</th>\n",
       "      <td>15515.10043</td>\n",
       "      <td>xbacon</td>\n",
       "    </tr>\n",
       "    <tr>\n",
       "      <th>11</th>\n",
       "      <td>36.45475</td>\n",
       "      <td>xbadiff</td>\n",
       "    </tr>\n",
       "    <tr>\n",
       "      <th>12</th>\n",
       "      <td>66.98338</td>\n",
       "      <td>xslgdiff</td>\n",
       "    </tr>\n",
       "    <tr>\n",
       "      <th>13</th>\n",
       "      <td>130.53768</td>\n",
       "      <td>wobadif</td>\n",
       "    </tr>\n",
       "    <tr>\n",
       "      <th>14</th>\n",
       "      <td>1662.61794</td>\n",
       "      <td>exit_velocity_avg</td>\n",
       "    </tr>\n",
       "    <tr>\n",
       "      <th>15</th>\n",
       "      <td>65.41859</td>\n",
       "      <td>launch_angle_avg</td>\n",
       "    </tr>\n",
       "    <tr>\n",
       "      <th>16</th>\n",
       "      <td>446.64126</td>\n",
       "      <td>sweet_spot_percent</td>\n",
       "    </tr>\n",
       "    <tr>\n",
       "      <th>17</th>\n",
       "      <td>421.06910</td>\n",
       "      <td>barrels</td>\n",
       "    </tr>\n",
       "    <tr>\n",
       "      <th>18</th>\n",
       "      <td>503.08003</td>\n",
       "      <td>barrel_batted_rate</td>\n",
       "    </tr>\n",
       "    <tr>\n",
       "      <th>19</th>\n",
       "      <td>9.12350</td>\n",
       "      <td>poorlyweak_percent</td>\n",
       "    </tr>\n",
       "    <tr>\n",
       "      <th>20</th>\n",
       "      <td>160.81724</td>\n",
       "      <td>hard_hit_percent</td>\n",
       "    </tr>\n",
       "    <tr>\n",
       "      <th>21</th>\n",
       "      <td>44.34171</td>\n",
       "      <td>z_swing_miss_percent</td>\n",
       "    </tr>\n",
       "    <tr>\n",
       "      <th>22</th>\n",
       "      <td>200.70961</td>\n",
       "      <td>oz_contact_percent</td>\n",
       "    </tr>\n",
       "    <tr>\n",
       "      <th>23</th>\n",
       "      <td>214.90817</td>\n",
       "      <td>flyballs_percent</td>\n",
       "    </tr>\n",
       "    <tr>\n",
       "      <th>24</th>\n",
       "      <td>315.07016</td>\n",
       "      <td>linedrives_percent</td>\n",
       "    </tr>\n",
       "  </tbody>\n",
       "</table>\n",
       "</div>"
      ],
      "text/plain": [
       "     VIF Factor              features\n",
       "0      52.13555             player_id\n",
       "1   25137.87518                  b_ab\n",
       "2   26528.65923            b_total_pa\n",
       "3     120.44973            b_home_run\n",
       "4  288719.08996                   xba\n",
       "5  841730.52080                  xslg\n",
       "6   22778.52214                 xwoba\n",
       "7   16845.90620                  xobp\n",
       "8  153516.75636                  xiso\n",
       "9   17018.87765              xwobacon\n",
       "10  15515.10043                xbacon\n",
       "11     36.45475               xbadiff\n",
       "12     66.98338              xslgdiff\n",
       "13    130.53768               wobadif\n",
       "14   1662.61794     exit_velocity_avg\n",
       "15     65.41859      launch_angle_avg\n",
       "16    446.64126    sweet_spot_percent\n",
       "17    421.06910               barrels\n",
       "18    503.08003    barrel_batted_rate\n",
       "19      9.12350    poorlyweak_percent\n",
       "20    160.81724      hard_hit_percent\n",
       "21     44.34171  z_swing_miss_percent\n",
       "22    200.70961    oz_contact_percent\n",
       "23    214.90817      flyballs_percent\n",
       "24    315.07016    linedrives_percent"
      ]
     },
     "execution_count": 19,
     "metadata": {},
     "output_type": "execute_result"
    }
   ],
   "source": [
    "from statsmodels.stats.outliers_influence import variance_inflation_factor\n",
    "\n",
    "vif = pd.DataFrame()\n",
    "vif[\"VIF Factor\"] = [float(variance_inflation_factor(\n",
    "    vif_old.values, i)) for i in range(vif_old.shape[1])]\n",
    "vif[\"features\"] = vif_old.columns\n",
    "vif.sort_values('VIF Factor')\n",
    "vif"
   ]
  },
  {
   "cell_type": "code",
   "execution_count": 20,
   "id": "6759ce2c-e02e-42fc-94cf-1f2a75487286",
   "metadata": {},
   "outputs": [],
   "source": [
    "# 확정\n",
    "df_old = df_old.drop(['groundballs_percent', 'oz_swing_miss_percent', 'z_swing_percent', 'z_swing_percent', 'batting_avg', 'slg_percent', 'on_base_percent', 'woba', 'wobacon', 'on_base_plus_slg', 'bacon'], axis=1)"
   ]
  },
  {
   "cell_type": "markdown",
   "id": "20783c03-000e-407d-82f4-b8333df87cc8",
   "metadata": {},
   "source": [
    "### 칼럼 하나씩 살펴보고 이상치 제거 / 제외할 칼럼 선정 (Outlier remove)\n",
    "\n",
    "- 분석 대상 :\n",
    "    -  'xba', 'xslg', 'xwoba', 'xobp', 'xiso',\n",
    "       'xwobacon', 'xbacon', 'xbadiff', 'xslgdiff',\n",
    "       'wobadif', 'exit_velocity_avg', 'launch_angle_avg',\n",
    "       'sweet_spot_percent', 'barrels', 'barrel_batted_rate',\n",
    "       'poorlyweak_percent', 'hard_hit_percent'\n",
    "       'z_swing_miss_percent', 'oz_contact_percent',\n",
    "       'flyballs_percent', 'linedrives_percent'"
   ]
  },
  {
   "cell_type": "code",
   "execution_count": 21,
   "id": "d72a6f93-bd3b-49d2-8c75-1a98b1194b02",
   "metadata": {},
   "outputs": [
    {
     "data": {
      "image/png": "[encoded data removed]",
      "text/plain": [
       "<Figure size 432x288 with 1 Axes>"
      ]
     },
     "metadata": {
      "needs_background": "light"
     },
     "output_type": "display_data"
    }
   ],
   "source": [
    "fig, ax = plt.subplots()\n",
    "ax.scatter(x = df_old['xba'], y = df_old['b_home_run'])\n",
    "plt.ylabel('HR')\n",
    "plt.xlabel('xBA')\n",
    "plt.show()"
   ]
  },
  {
   "cell_type": "markdown",
   "id": "9add3479-69b0-4f94-bbdd-1fb0de867b25",
   "metadata": {},
   "source": [
    "- 타율은 생각보다 홈런과 큰 관계없음"
   ]
  },
  {
   "cell_type": "code",
   "execution_count": 22,
   "id": "57ac6282-25ff-464b-94d3-e61bae2c5316",
   "metadata": {},
   "outputs": [
    {
     "data": {
      "image/png": "[encoded data removed]",
      "text/plain": [
       "<Figure size 432x288 with 1 Axes>"
      ]
     },
     "metadata": {
      "needs_background": "light"
     },
     "output_type": "display_data"
    }
   ],
   "source": [
    "fig, ax = plt.subplots()\n",
    "ax.scatter(x = df_old['xslg'], y = df_old['b_home_run'])\n",
    "plt.ylabel('HR')\n",
    "plt.xlabel('xSLG')\n",
    "plt.show()"
   ]
  },
  {
   "cell_type": "code",
   "execution_count": 23,
   "id": "3d6505ce-55a7-44a8-b31f-0254502cbf8f",
   "metadata": {},
   "outputs": [
    {
     "data": {
      "image/png": "[encoded data removed]",
      "text/plain": [
       "<Figure size 432x288 with 1 Axes>"
      ]
     },
     "metadata": {
      "needs_background": "light"
     },
     "output_type": "display_data"
    }
   ],
   "source": [
    "fig, ax = plt.subplots()\n",
    "ax.scatter(x = df_old['xwoba'], y = df_old['b_home_run'])\n",
    "plt.ylabel('HR')\n",
    "plt.xlabel('xWOBA')\n",
    "plt.show()"
   ]
  },
  {
   "cell_type": "code",
   "execution_count": 24,
   "id": "2f3ad013-b543-4763-8606-70e531dd2af1",
   "metadata": {},
   "outputs": [
    {
     "data": {
      "image/png": "[encoded data removed]",
      "text/plain": [
       "<Figure size 432x288 with 1 Axes>"
      ]
     },
     "metadata": {
      "needs_background": "light"
     },
     "output_type": "display_data"
    }
   ],
   "source": [
    "fig, ax = plt.subplots()\n",
    "ax.scatter(x = df_old['xobp'], y = df_old['b_home_run'])\n",
    "plt.ylabel('HR')\n",
    "plt.xlabel('xOBP')\n",
    "plt.show()"
   ]
  },
  {
   "cell_type": "code",
   "execution_count": 25,
   "id": "a6ecbcf5-df30-4023-9ea9-df46fd215c9b",
   "metadata": {},
   "outputs": [
    {
     "data": {
      "image/png": "[encoded data removed]",
      "text/plain": [
       "<Figure size 432x288 with 1 Axes>"
      ]
     },
     "metadata": {
      "needs_background": "light"
     },
     "output_type": "display_data"
    }
   ],
   "source": [
    "fig, ax = plt.subplots()\n",
    "ax.scatter(x = df_old['xiso'], y = df_old['b_home_run'])\n",
    "plt.ylabel('HR')\n",
    "plt.xlabel('xISO')\n",
    "plt.show()"
   ]
  },
  {
   "cell_type": "code",
   "execution_count": 26,
   "id": "b2bb70b5-3ffb-4503-affd-096112f66b55",
   "metadata": {},
   "outputs": [
    {
     "data": {
      "image/png": "[encoded data removed]",
      "text/plain": [
       "<Figure size 432x288 with 1 Axes>"
      ]
     },
     "metadata": {
      "needs_background": "light"
     },
     "output_type": "display_data"
    }
   ],
   "source": [
    "fig, ax = plt.subplots()\n",
    "ax.scatter(x = df_old['xwobacon'], y = df_old['b_home_run'])\n",
    "plt.ylabel('HR')\n",
    "plt.xlabel('xWOBACON')\n",
    "plt.show()"
   ]
  },
  {
   "cell_type": "code",
   "execution_count": 27,
   "id": "a41fe395-6d82-4cad-b006-176c73f1dbde",
   "metadata": {},
   "outputs": [],
   "source": [
    "# 압도적인 xWOBACON의 2017년 아론저지... 학습에 영향을 줄수있으니 눈물머금고 제외한다...\n",
    "df_old = df_old[df_old['xwobacon'] < 0.6]"
   ]
  },
  {
   "cell_type": "code",
   "execution_count": 28,
   "id": "5e8cb951-82bd-4d55-a32e-df1a8f6673dc",
   "metadata": {},
   "outputs": [
    {
     "data": {
      "image/png": "[encoded data removed]",
      "text/plain": [
       "<Figure size 432x288 with 1 Axes>"
      ]
     },
     "metadata": {
      "needs_background": "light"
     },
     "output_type": "display_data"
    }
   ],
   "source": [
    "fig, ax = plt.subplots()\n",
    "ax.scatter(x = df_old['xbacon'], y = df_old['b_home_run'])\n",
    "plt.ylabel('HR')\n",
    "plt.xlabel('xBACON')\n",
    "plt.show()"
   ]
  },
  {
   "cell_type": "code",
   "execution_count": 29,
   "id": "7dae5f04-a5fc-42a8-a833-2232dba0883b",
   "metadata": {},
   "outputs": [
    {
     "data": {
      "image/png": "[encoded data removed]",
      "text/plain": [
       "<Figure size 432x288 with 1 Axes>"
      ]
     },
     "metadata": {
      "needs_background": "light"
     },
     "output_type": "display_data"
    }
   ],
   "source": [
    "fig, ax = plt.subplots()\n",
    "ax.scatter(x = df_old['xbadiff'], y = df_old['b_home_run'])\n",
    "plt.ylabel('HR')\n",
    "plt.xlabel('xBAdiff')\n",
    "plt.show()"
   ]
  },
  {
   "cell_type": "markdown",
   "id": "d68168ae-9d5b-4a16-9ab2-7714288480dd",
   "metadata": {},
   "source": [
    "- 타율 관련된 칼럼 삭제 고민"
   ]
  },
  {
   "cell_type": "code",
   "execution_count": 30,
   "id": "feac95b8-3c4e-4f68-806b-a923dec4a26b",
   "metadata": {},
   "outputs": [
    {
     "data": {
      "image/png": "[encoded data removed]",
      "text/plain": [
       "<Figure size 432x288 with 1 Axes>"
      ]
     },
     "metadata": {
      "needs_background": "light"
     },
     "output_type": "display_data"
    }
   ],
   "source": [
    "fig, ax = plt.subplots()\n",
    "ax.scatter(x = df_old['xslgdiff'], y = df_old['b_home_run'])\n",
    "plt.ylabel('HR')\n",
    "plt.xlabel('xSLGdiff')\n",
    "plt.show()"
   ]
  },
  {
   "cell_type": "code",
   "execution_count": 31,
   "id": "653363af-c52c-4104-8bf1-40c60f6896a2",
   "metadata": {},
   "outputs": [
    {
     "data": {
      "image/png": "[encoded data removed]",
      "text/plain": [
       "<Figure size 432x288 with 1 Axes>"
      ]
     },
     "metadata": {
      "needs_background": "light"
     },
     "output_type": "display_data"
    }
   ],
   "source": [
    "fig, ax = plt.subplots()\n",
    "ax.scatter(x = df_old['wobadif'], y = df_old['b_home_run'])\n",
    "plt.ylabel('HR')\n",
    "plt.xlabel('WOBAdiff')\n",
    "plt.show()"
   ]
  },
  {
   "cell_type": "markdown",
   "id": "b5c352a9-f348-4a9e-b912-4de6805a5647",
   "metadata": {},
   "source": [
    "- (현재기록) - (기대기록) 지표는 홈런과 관계가 거의 없다"
   ]
  },
  {
   "cell_type": "code",
   "execution_count": 32,
   "id": "c955fde2-8c11-415a-87f4-2ef1b1140559",
   "metadata": {},
   "outputs": [
    {
     "data": {
      "image/png": "[encoded data removed]",
      "text/plain": [
       "<Figure size 432x288 with 1 Axes>"
      ]
     },
     "metadata": {
      "needs_background": "light"
     },
     "output_type": "display_data"
    }
   ],
   "source": [
    "fig, ax = plt.subplots()\n",
    "ax.scatter(x = df_old['exit_velocity_avg'], y = df_old['b_home_run'])\n",
    "plt.ylabel('HR')\n",
    "plt.xlabel('EVA')\n",
    "plt.show()"
   ]
  },
  {
   "cell_type": "code",
   "execution_count": 33,
   "id": "a2ca98c0-e266-41e2-8366-a09f6a5c3a96",
   "metadata": {},
   "outputs": [
    {
     "data": {
      "image/png": "[encoded data removed]",
      "text/plain": [
       "<Figure size 432x288 with 1 Axes>"
      ]
     },
     "metadata": {
      "needs_background": "light"
     },
     "output_type": "display_data"
    }
   ],
   "source": [
    "fig, ax = plt.subplots()\n",
    "ax.scatter(x = df_old['launch_angle_avg'], y = df_old['b_home_run'])\n",
    "plt.ylabel('HR')\n",
    "plt.xlabel('LAA')\n",
    "plt.show()"
   ]
  },
  {
   "cell_type": "code",
   "execution_count": 34,
   "id": "6fd77427-58c7-4551-b4a2-f674495e546f",
   "metadata": {},
   "outputs": [
    {
     "data": {
      "image/png": "[encoded data removed]",
      "text/plain": [
       "<Figure size 432x288 with 1 Axes>"
      ]
     },
     "metadata": {
      "needs_background": "light"
     },
     "output_type": "display_data"
    }
   ],
   "source": [
    "fig, ax = plt.subplots()\n",
    "ax.scatter(x = df_old['sweet_spot_percent'], y = df_old['b_home_run'])\n",
    "plt.ylabel('HR')\n",
    "plt.xlabel('SSP')\n",
    "plt.show()"
   ]
  },
  {
   "cell_type": "code",
   "execution_count": 35,
   "id": "f51ea1fb-a974-4a0e-aafa-5daef8487f4f",
   "metadata": {},
   "outputs": [
    {
     "data": {
      "image/png": "[encoded data removed]",
      "text/plain": [
       "<Figure size 432x288 with 1 Axes>"
      ]
     },
     "metadata": {
      "needs_background": "light"
     },
     "output_type": "display_data"
    }
   ],
   "source": [
    "fig, ax = plt.subplots()\n",
    "ax.scatter(x = df_old['barrels'], y = df_old['b_home_run'])\n",
    "plt.ylabel('HR')\n",
    "plt.xlabel('BARRELS')\n",
    "plt.show()"
   ]
  },
  {
   "cell_type": "code",
   "execution_count": 36,
   "id": "29129112-7829-4bb8-9b07-e181b981d70d",
   "metadata": {},
   "outputs": [
    {
     "data": {
      "image/png": "[encoded data removed]",
      "text/plain": [
       "<Figure size 432x288 with 1 Axes>"
      ]
     },
     "metadata": {
      "needs_background": "light"
     },
     "output_type": "display_data"
    }
   ],
   "source": [
    "fig, ax = plt.subplots()\n",
    "ax.scatter(x = df_old['barrel_batted_rate'], y = df_old['b_home_run'])\n",
    "plt.ylabel('HR')\n",
    "plt.xlabel('BBR')\n",
    "plt.show()"
   ]
  },
  {
   "cell_type": "markdown",
   "id": "74a1644c-1ae2-41c6-83f7-4dcc262186df",
   "metadata": {},
   "source": [
    "- 20% 이상인 친구들 제외"
   ]
  },
  {
   "cell_type": "code",
   "execution_count": 37,
   "id": "bcf4022b-e8ee-4bb5-8601-2736c9c0ef5c",
   "metadata": {},
   "outputs": [],
   "source": [
    "df_old = df_old[df_old['barrel_batted_rate'] < 20]"
   ]
  },
  {
   "cell_type": "code",
   "execution_count": 38,
   "id": "986b2948-5d69-4f44-b371-0354acbcbd45",
   "metadata": {},
   "outputs": [
    {
     "data": {
      "image/png": "[encoded data removed]",
      "text/plain": [
       "<Figure size 432x288 with 1 Axes>"
      ]
     },
     "metadata": {
      "needs_background": "light"
     },
     "output_type": "display_data"
    }
   ],
   "source": [
    "fig, ax = plt.subplots()\n",
    "ax.scatter(x = df_old['poorlyweak_percent'], y = df_old['b_home_run'])\n",
    "plt.ylabel('HR')\n",
    "plt.xlabel('PW%')\n",
    "plt.show()"
   ]
  },
  {
   "cell_type": "markdown",
   "id": "c99d5745-9c2b-4f0b-be4a-724661113779",
   "metadata": {},
   "source": [
    "- 반비례 관계일줄 알았는데 생각보다 관계없다"
   ]
  },
  {
   "cell_type": "code",
   "execution_count": 39,
   "id": "6d389d4d-81c9-46ce-8653-8dbfaa8c8ac4",
   "metadata": {},
   "outputs": [
    {
     "data": {
      "image/png": "[encoded data removed]",
      "text/plain": [
       "<Figure size 432x288 with 1 Axes>"
      ]
     },
     "metadata": {
      "needs_background": "light"
     },
     "output_type": "display_data"
    }
   ],
   "source": [
    "fig, ax = plt.subplots()\n",
    "ax.scatter(x = df_old['hard_hit_percent'], y = df_old['b_home_run'])\n",
    "plt.ylabel('HR')\n",
    "plt.xlabel('Hard_Hit%')\n",
    "plt.show()"
   ]
  },
  {
   "cell_type": "code",
   "execution_count": 40,
   "id": "6a969e1c-7e06-422e-8b92-236ed9cac7c2",
   "metadata": {},
   "outputs": [
    {
     "data": {
      "image/png": "[encoded data removed]",
      "text/plain": [
       "<Figure size 432x288 with 1 Axes>"
      ]
     },
     "metadata": {
      "needs_background": "light"
     },
     "output_type": "display_data"
    }
   ],
   "source": [
    "fig, ax = plt.subplots()\n",
    "ax.scatter(x = df_old['z_swing_miss_percent'], y = df_old['b_home_run'])\n",
    "plt.ylabel('HR')\n",
    "plt.xlabel('Zone S/M %')\n",
    "plt.show()"
   ]
  },
  {
   "cell_type": "code",
   "execution_count": 41,
   "id": "b94eec7f-4e78-4543-8482-e2a74ce38060",
   "metadata": {},
   "outputs": [
    {
     "data": {
      "image/png": "[encoded data removed]",
      "text/plain": [
       "<Figure size 432x288 with 1 Axes>"
      ]
     },
     "metadata": {
      "needs_background": "light"
     },
     "output_type": "display_data"
    }
   ],
   "source": [
    "fig, ax = plt.subplots()\n",
    "ax.scatter(x = df_old['oz_contact_percent'], y = df_old['b_home_run'])\n",
    "plt.ylabel('HR')\n",
    "plt.xlabel('Offzone Contact %')\n",
    "plt.show()"
   ]
  },
  {
   "cell_type": "code",
   "execution_count": 42,
   "id": "a674d7d9-884b-4bf4-bdb5-d67f343107c4",
   "metadata": {},
   "outputs": [
    {
     "data": {
      "image/png": "[encoded data removed]",
      "text/plain": [
       "<Figure size 432x288 with 1 Axes>"
      ]
     },
     "metadata": {
      "needs_background": "light"
     },
     "output_type": "display_data"
    }
   ],
   "source": [
    "fig, ax = plt.subplots()\n",
    "ax.scatter(x = df_old['flyballs_percent'], y = df_old['b_home_run'])\n",
    "plt.ylabel('HR')\n",
    "plt.xlabel('Flyballs %')\n",
    "plt.show()"
   ]
  },
  {
   "cell_type": "code",
   "execution_count": 43,
   "id": "75bb5b80-4a25-457f-99b7-ddc0ad70b445",
   "metadata": {},
   "outputs": [
    {
     "data": {
      "image/png": "[encoded data removed]",
      "text/plain": [
       "<Figure size 432x288 with 1 Axes>"
      ]
     },
     "metadata": {
      "needs_background": "light"
     },
     "output_type": "display_data"
    }
   ],
   "source": [
    "fig, ax = plt.subplots()\n",
    "ax.scatter(x = df_old['linedrives_percent'], y = df_old['b_home_run'])\n",
    "plt.ylabel('HR')\n",
    "plt.xlabel('Linedrives %')\n",
    "plt.show()"
   ]
  },
  {
   "cell_type": "markdown",
   "id": "fc4147b9-85c7-4617-887c-7a0ae8706f0d",
   "metadata": {},
   "source": [
    "### 추가 제외할 칼럼 선정\n",
    "- xba / xbadiff / xslgdiff / wobadif / sweet_spot_percent / poorlyweak_percent / linedirves_percent"
   ]
  },
  {
   "cell_type": "code",
   "execution_count": 44,
   "id": "8af72e8d-503d-4497-b538-ccb8a2462f8e",
   "metadata": {},
   "outputs": [],
   "source": [
    "df_old = df_old.drop(['xba', 'xbadiff', 'xslgdiff', 'wobadif', 'sweet_spot_percent', 'poorlyweak_percent', 'linedrives_percent'], axis=1)"
   ]
  },
  {
   "cell_type": "code",
   "execution_count": 45,
   "id": "5f39c7c7-9504-4742-acb9-6b4ea5feb57f",
   "metadata": {},
   "outputs": [
    {
     "data": {
      "text/html": [
       "<div>\n",
       "<style scoped>\n",
       "    .dataframe tbody tr th:only-of-type {\n",
       "        vertical-align: middle;\n",
       "    }\n",
       "\n",
       "    .dataframe tbody tr th {\n",
       "        vertical-align: top;\n",
       "    }\n",
       "\n",
       "    .dataframe thead th {\n",
       "        text-align: right;\n",
       "    }\n",
       "</style>\n",
       "<table border=\"1\" class=\"dataframe\">\n",
       "  <thead>\n",
       "    <tr style=\"text-align: right;\">\n",
       "      <th></th>\n",
       "      <th>player_id</th>\n",
       "      <th>b_ab</th>\n",
       "      <th>b_total_pa</th>\n",
       "      <th>b_home_run</th>\n",
       "      <th>xslg</th>\n",
       "      <th>xwoba</th>\n",
       "      <th>xobp</th>\n",
       "      <th>xiso</th>\n",
       "      <th>xwobacon</th>\n",
       "      <th>xbacon</th>\n",
       "      <th>exit_velocity_avg</th>\n",
       "      <th>launch_angle_avg</th>\n",
       "      <th>barrels</th>\n",
       "      <th>barrel_batted_rate</th>\n",
       "      <th>hard_hit_percent</th>\n",
       "      <th>z_swing_miss_percent</th>\n",
       "      <th>oz_contact_percent</th>\n",
       "      <th>flyballs_percent</th>\n",
       "    </tr>\n",
       "  </thead>\n",
       "  <tbody>\n",
       "    <tr>\n",
       "      <th>142</th>\n",
       "      <td>116338</td>\n",
       "      <td>521</td>\n",
       "      <td>567</td>\n",
       "      <td>22</td>\n",
       "      <td>0.37000</td>\n",
       "      <td>0.29000</td>\n",
       "      <td>0.28500</td>\n",
       "      <td>0.14000</td>\n",
       "      <td>0.32500</td>\n",
       "      <td>0.28700</td>\n",
       "      <td>88.50000</td>\n",
       "      <td>10.80000</td>\n",
       "      <td>21</td>\n",
       "      <td>5.00000</td>\n",
       "      <td>35.30000</td>\n",
       "      <td>17.20000</td>\n",
       "      <td>63.70000</td>\n",
       "      <td>22.60000</td>\n",
       "    </tr>\n",
       "    <tr>\n",
       "      <th>143</th>\n",
       "      <td>120074</td>\n",
       "      <td>528</td>\n",
       "      <td>614</td>\n",
       "      <td>37</td>\n",
       "      <td>0.61100</td>\n",
       "      <td>0.41700</td>\n",
       "      <td>0.38500</td>\n",
       "      <td>0.31200</td>\n",
       "      <td>0.47000</td>\n",
       "      <td>0.36100</td>\n",
       "      <td>93.00000</td>\n",
       "      <td>15.70000</td>\n",
       "      <td>58</td>\n",
       "      <td>13.10000</td>\n",
       "      <td>49.50000</td>\n",
       "      <td>17.00000</td>\n",
       "      <td>65.40000</td>\n",
       "      <td>25.60000</td>\n",
       "    </tr>\n",
       "    <tr>\n",
       "      <th>144</th>\n",
       "      <td>121347</td>\n",
       "      <td>523</td>\n",
       "      <td>620</td>\n",
       "      <td>33</td>\n",
       "      <td>0.49100</td>\n",
       "      <td>0.36600</td>\n",
       "      <td>0.35400</td>\n",
       "      <td>0.24600</td>\n",
       "      <td>0.43200</td>\n",
       "      <td>0.33600</td>\n",
       "      <td>91.30000</td>\n",
       "      <td>12.20000</td>\n",
       "      <td>42</td>\n",
       "      <td>10.90000</td>\n",
       "      <td>44.20000</td>\n",
       "      <td>26.10000</td>\n",
       "      <td>53.10000</td>\n",
       "      <td>24.90000</td>\n",
       "    </tr>\n",
       "    <tr>\n",
       "      <th>145</th>\n",
       "      <td>133380</td>\n",
       "      <td>475</td>\n",
       "      <td>516</td>\n",
       "      <td>17</td>\n",
       "      <td>0.40000</td>\n",
       "      <td>0.30000</td>\n",
       "      <td>0.29000</td>\n",
       "      <td>0.16200</td>\n",
       "      <td>0.31800</td>\n",
       "      <td>0.27500</td>\n",
       "      <td>87.40000</td>\n",
       "      <td>15.80000</td>\n",
       "      <td>23</td>\n",
       "      <td>5.60000</td>\n",
       "      <td>35.00000</td>\n",
       "      <td>12.30000</td>\n",
       "      <td>70.90000</td>\n",
       "      <td>24.50000</td>\n",
       "    </tr>\n",
       "    <tr>\n",
       "      <th>146</th>\n",
       "      <td>134181</td>\n",
       "      <td>567</td>\n",
       "      <td>619</td>\n",
       "      <td>18</td>\n",
       "      <td>0.47700</td>\n",
       "      <td>0.35700</td>\n",
       "      <td>0.34300</td>\n",
       "      <td>0.18500</td>\n",
       "      <td>0.37600</td>\n",
       "      <td>0.33000</td>\n",
       "      <td>89.50000</td>\n",
       "      <td>12.60000</td>\n",
       "      <td>28</td>\n",
       "      <td>5.50000</td>\n",
       "      <td>40.80000</td>\n",
       "      <td>10.90000</td>\n",
       "      <td>74.80000</td>\n",
       "      <td>18.40000</td>\n",
       "    </tr>\n",
       "  </tbody>\n",
       "</table>\n",
       "</div>"
      ],
      "text/plain": [
       "     player_id  b_ab  b_total_pa  b_home_run    xslg   xwoba    xobp    xiso  \\\n",
       "142     116338   521         567          22 0.37000 0.29000 0.28500 0.14000   \n",
       "143     120074   528         614          37 0.61100 0.41700 0.38500 0.31200   \n",
       "144     121347   523         620          33 0.49100 0.36600 0.35400 0.24600   \n",
       "145     133380   475         516          17 0.40000 0.30000 0.29000 0.16200   \n",
       "146     134181   567         619          18 0.47700 0.35700 0.34300 0.18500   \n",
       "\n",
       "     xwobacon  xbacon  exit_velocity_avg  launch_angle_avg  barrels  \\\n",
       "142   0.32500 0.28700           88.50000          10.80000       21   \n",
       "143   0.47000 0.36100           93.00000          15.70000       58   \n",
       "144   0.43200 0.33600           91.30000          12.20000       42   \n",
       "145   0.31800 0.27500           87.40000          15.80000       23   \n",
       "146   0.37600 0.33000           89.50000          12.60000       28   \n",
       "\n",
       "     barrel_batted_rate  hard_hit_percent  z_swing_miss_percent  \\\n",
       "142             5.00000          35.30000              17.20000   \n",
       "143            13.10000          49.50000              17.00000   \n",
       "144            10.90000          44.20000              26.10000   \n",
       "145             5.60000          35.00000              12.30000   \n",
       "146             5.50000          40.80000              10.90000   \n",
       "\n",
       "     oz_contact_percent  flyballs_percent  \n",
       "142            63.70000          22.60000  \n",
       "143            65.40000          25.60000  \n",
       "144            53.10000          24.90000  \n",
       "145            70.90000          24.50000  \n",
       "146            74.80000          18.40000  "
      ]
     },
     "execution_count": 45,
     "metadata": {},
     "output_type": "execute_result"
    }
   ],
   "source": [
    "df_old.head()"
   ]
  },
  {
   "cell_type": "code",
   "execution_count": 46,
   "id": "f7fced0d-cbe4-4bc1-9615-2a9eb67f045d",
   "metadata": {},
   "outputs": [
    {
     "data": {
      "text/plain": [
       "Index(['player_id', 'b_ab', 'b_total_pa', 'b_home_run', 'xslg', 'xwoba',\n",
       "       'xobp', 'xiso', 'xwobacon', 'xbacon', 'exit_velocity_avg',\n",
       "       'launch_angle_avg', 'barrels', 'barrel_batted_rate', 'hard_hit_percent',\n",
       "       'z_swing_miss_percent', 'oz_contact_percent', 'flyballs_percent'],\n",
       "      dtype='object')"
      ]
     },
     "execution_count": 46,
     "metadata": {},
     "output_type": "execute_result"
    }
   ],
   "source": [
    "df_old.columns"
   ]
  },
  {
   "cell_type": "markdown",
   "id": "143dcacf-8379-49f3-adee-28551f75bfae",
   "metadata": {},
   "source": [
    "#### test_data에도 똑같이 맞춰 삭제하기"
   ]
  },
  {
   "cell_type": "code",
   "execution_count": 47,
   "id": "46cd9e9d-68fc-42d2-b092-0ebe62a1b090",
   "metadata": {},
   "outputs": [
    {
     "data": {
      "text/plain": [
       "Index(['player_id', 'b_ab', 'b_total_pa', 'b_home_run', 'b_game', 'xslg',\n",
       "       'xwoba', 'xobp', 'xiso', 'xwobacon', 'xbacon', 'exit_velocity_avg',\n",
       "       'launch_angle_avg', 'barrels', 'barrel_batted_rate', 'hard_hit_percent',\n",
       "       'z_swing_miss_percent', 'oz_contact_percent', 'flyballs_percent'],\n",
       "      dtype='object')"
      ]
     },
     "execution_count": 47,
     "metadata": {},
     "output_type": "execute_result"
    }
   ],
   "source": [
    "df_now = df_now.drop(['groundballs_percent', 'oz_swing_miss_percent', 'z_swing_percent', 'z_swing_percent', 'batting_avg', 'slg_percent', 'on_base_percent', 'woba', 'wobacon', 'on_base_plus_slg', 'bacon', 'xba', 'xbadiff', 'xslgdiff', 'wobadif', 'sweet_spot_percent', 'poorlyweak_percent', 'linedrives_percent'], axis=1)\n",
    "df_now.columns"
   ]
  },
  {
   "cell_type": "code",
   "execution_count": 48,
   "id": "12b61f9e-e7dd-4e52-aba4-72b843b67a76",
   "metadata": {},
   "outputs": [],
   "source": [
    "# test_data의 정답데이터 분리\n",
    "answer = df_now['b_home_run']\n",
    "df_now = df_now.drop(['b_home_run'], axis=1)"
   ]
  },
  {
   "cell_type": "code",
   "execution_count": 49,
   "id": "4f281edf-a3e0-42fa-ab5b-95f756a5eb85",
   "metadata": {},
   "outputs": [
    {
     "name": "stdout",
     "output_type": "stream",
     "text": [
      "(705, 18)\n",
      "(137, 18)\n"
     ]
    }
   ],
   "source": [
    "print(df_old.shape)\n",
    "print(df_now.shape)"
   ]
  },
  {
   "cell_type": "markdown",
   "id": "32bda668-8195-4104-b0c9-17a418bdd1fd",
   "metadata": {},
   "source": [
    "#### 현재 데이터에 부족한 게임 수 조정하기"
   ]
  },
  {
   "cell_type": "code",
   "execution_count": 50,
   "id": "b044fa58-46a5-453f-b195-43ecd920dbc3",
   "metadata": {},
   "outputs": [
    {
     "data": {
      "text/plain": [
       "0     0.42857\n",
       "1     0.49405\n",
       "2     0.52976\n",
       "3     0.51190\n",
       "4     0.51190\n",
       "        ...  \n",
       "132   0.54167\n",
       "133   0.46429\n",
       "134   0.54762\n",
       "135   0.52976\n",
       "136   0.47024\n",
       "Name: progress, Length: 137, dtype: float64"
      ]
     },
     "execution_count": 50,
     "metadata": {},
     "output_type": "execute_result"
    }
   ],
   "source": [
    "df_now['progress'] = df_now['b_game'] / 168\n",
    "df_now['progress']"
   ]
  },
  {
   "cell_type": "code",
   "execution_count": 51,
   "id": "478a3f21-bdac-4290-a59e-ee0bbcf33cd8",
   "metadata": {},
   "outputs": [
    {
     "data": {
      "text/plain": [
       "0     1.42857\n",
       "1     1.49405\n",
       "2     1.52976\n",
       "3     1.51190\n",
       "4     1.51190\n",
       "        ...  \n",
       "132   1.54167\n",
       "133   1.46429\n",
       "134   1.54762\n",
       "135   1.52976\n",
       "136   1.47024\n",
       "Name: progress, Length: 137, dtype: float64"
      ]
     },
     "execution_count": 51,
     "metadata": {},
     "output_type": "execute_result"
    }
   ],
   "source": [
    "df_now['progress'] = df_now['progress'] + 1\n",
    "df_now['progress']"
   ]
  },
  {
   "cell_type": "code",
   "execution_count": 52,
   "id": "eaa747cd-6e9f-49b2-b99a-c9cabe4a380d",
   "metadata": {},
   "outputs": [
    {
     "data": {
      "text/html": [
       "<div>\n",
       "<style scoped>\n",
       "    .dataframe tbody tr th:only-of-type {\n",
       "        vertical-align: middle;\n",
       "    }\n",
       "\n",
       "    .dataframe tbody tr th {\n",
       "        vertical-align: top;\n",
       "    }\n",
       "\n",
       "    .dataframe thead th {\n",
       "        text-align: right;\n",
       "    }\n",
       "</style>\n",
       "<table border=\"1\" class=\"dataframe\">\n",
       "  <thead>\n",
       "    <tr style=\"text-align: right;\">\n",
       "      <th></th>\n",
       "      <th>player_id</th>\n",
       "      <th>b_ab</th>\n",
       "      <th>b_total_pa</th>\n",
       "      <th>b_game</th>\n",
       "      <th>xslg</th>\n",
       "      <th>xwoba</th>\n",
       "      <th>xobp</th>\n",
       "      <th>xiso</th>\n",
       "      <th>xwobacon</th>\n",
       "      <th>xbacon</th>\n",
       "      <th>exit_velocity_avg</th>\n",
       "      <th>launch_angle_avg</th>\n",
       "      <th>barrels</th>\n",
       "      <th>barrel_batted_rate</th>\n",
       "      <th>hard_hit_percent</th>\n",
       "      <th>z_swing_miss_percent</th>\n",
       "      <th>oz_contact_percent</th>\n",
       "      <th>flyballs_percent</th>\n",
       "      <th>progress</th>\n",
       "    </tr>\n",
       "  </thead>\n",
       "  <tbody>\n",
       "    <tr>\n",
       "      <th>0</th>\n",
       "      <td>408234</td>\n",
       "      <td>383.00000</td>\n",
       "      <td>417.00000</td>\n",
       "      <td>72</td>\n",
       "      <td>0.37000</td>\n",
       "      <td>0.28600</td>\n",
       "      <td>0.27800</td>\n",
       "      <td>0.15100</td>\n",
       "      <td>0.35100</td>\n",
       "      <td>0.30500</td>\n",
       "      <td>90.80000</td>\n",
       "      <td>10.20000</td>\n",
       "      <td>20.00000</td>\n",
       "      <td>7.20000</td>\n",
       "      <td>48.50000</td>\n",
       "      <td>20.90000</td>\n",
       "      <td>58.20000</td>\n",
       "      <td>24.20000</td>\n",
       "      <td>1.42857</td>\n",
       "    </tr>\n",
       "    <tr>\n",
       "      <th>1</th>\n",
       "      <td>443558</td>\n",
       "      <td>430.00000</td>\n",
       "      <td>502.00000</td>\n",
       "      <td>83</td>\n",
       "      <td>0.53900</td>\n",
       "      <td>0.39200</td>\n",
       "      <td>0.36900</td>\n",
       "      <td>0.25700</td>\n",
       "      <td>0.44700</td>\n",
       "      <td>0.35800</td>\n",
       "      <td>93.40000</td>\n",
       "      <td>10.40000</td>\n",
       "      <td>49.00000</td>\n",
       "      <td>14.00000</td>\n",
       "      <td>54.00000</td>\n",
       "      <td>21.10000</td>\n",
       "      <td>53.80000</td>\n",
       "      <td>26.00000</td>\n",
       "      <td>1.49405</td>\n",
       "    </tr>\n",
       "    <tr>\n",
       "      <th>2</th>\n",
       "      <td>444482</td>\n",
       "      <td>476.00000</td>\n",
       "      <td>528.00000</td>\n",
       "      <td>89</td>\n",
       "      <td>0.35200</td>\n",
       "      <td>0.29800</td>\n",
       "      <td>0.31700</td>\n",
       "      <td>0.11000</td>\n",
       "      <td>0.31000</td>\n",
       "      <td>0.29100</td>\n",
       "      <td>89.20000</td>\n",
       "      <td>4.80000</td>\n",
       "      <td>23.00000</td>\n",
       "      <td>5.80000</td>\n",
       "      <td>41.10000</td>\n",
       "      <td>13.70000</td>\n",
       "      <td>58.40000</td>\n",
       "      <td>14.70000</td>\n",
       "      <td>1.52976</td>\n",
       "    </tr>\n",
       "    <tr>\n",
       "      <th>3</th>\n",
       "      <td>453568</td>\n",
       "      <td>440.00000</td>\n",
       "      <td>508.00000</td>\n",
       "      <td>86</td>\n",
       "      <td>0.41900</td>\n",
       "      <td>0.35400</td>\n",
       "      <td>0.37600</td>\n",
       "      <td>0.13500</td>\n",
       "      <td>0.35700</td>\n",
       "      <td>0.33300</td>\n",
       "      <td>87.50000</td>\n",
       "      <td>7.70000</td>\n",
       "      <td>21.00000</td>\n",
       "      <td>5.60000</td>\n",
       "      <td>40.90000</td>\n",
       "      <td>13.10000</td>\n",
       "      <td>68.10000</td>\n",
       "      <td>22.20000</td>\n",
       "      <td>1.51190</td>\n",
       "    </tr>\n",
       "    <tr>\n",
       "      <th>4</th>\n",
       "      <td>457705</td>\n",
       "      <td>435.00000</td>\n",
       "      <td>534.00000</td>\n",
       "      <td>86</td>\n",
       "      <td>0.44500</td>\n",
       "      <td>0.36000</td>\n",
       "      <td>0.37000</td>\n",
       "      <td>0.19800</td>\n",
       "      <td>0.40200</td>\n",
       "      <td>0.33500</td>\n",
       "      <td>88.40000</td>\n",
       "      <td>12.10000</td>\n",
       "      <td>32.00000</td>\n",
       "      <td>9.70000</td>\n",
       "      <td>38.20000</td>\n",
       "      <td>19.40000</td>\n",
       "      <td>51.50000</td>\n",
       "      <td>28.10000</td>\n",
       "      <td>1.51190</td>\n",
       "    </tr>\n",
       "  </tbody>\n",
       "</table>\n",
       "</div>"
      ],
      "text/plain": [
       "   player_id      b_ab  b_total_pa  b_game    xslg   xwoba    xobp    xiso  \\\n",
       "0     408234 383.00000   417.00000      72 0.37000 0.28600 0.27800 0.15100   \n",
       "1     443558 430.00000   502.00000      83 0.53900 0.39200 0.36900 0.25700   \n",
       "2     444482 476.00000   528.00000      89 0.35200 0.29800 0.31700 0.11000   \n",
       "3     453568 440.00000   508.00000      86 0.41900 0.35400 0.37600 0.13500   \n",
       "4     457705 435.00000   534.00000      86 0.44500 0.36000 0.37000 0.19800   \n",
       "\n",
       "   xwobacon  xbacon  exit_velocity_avg  launch_angle_avg  barrels  \\\n",
       "0   0.35100 0.30500           90.80000          10.20000 20.00000   \n",
       "1   0.44700 0.35800           93.40000          10.40000 49.00000   \n",
       "2   0.31000 0.29100           89.20000           4.80000 23.00000   \n",
       "3   0.35700 0.33300           87.50000           7.70000 21.00000   \n",
       "4   0.40200 0.33500           88.40000          12.10000 32.00000   \n",
       "\n",
       "   barrel_batted_rate  hard_hit_percent  z_swing_miss_percent  \\\n",
       "0             7.20000          48.50000              20.90000   \n",
       "1            14.00000          54.00000              21.10000   \n",
       "2             5.80000          41.10000              13.70000   \n",
       "3             5.60000          40.90000              13.10000   \n",
       "4             9.70000          38.20000              19.40000   \n",
       "\n",
       "   oz_contact_percent  flyballs_percent  progress  \n",
       "0            58.20000          24.20000   1.42857  \n",
       "1            53.80000          26.00000   1.49405  \n",
       "2            58.40000          14.70000   1.52976  \n",
       "3            68.10000          22.20000   1.51190  \n",
       "4            51.50000          28.10000   1.51190  "
      ]
     },
     "execution_count": 52,
     "metadata": {},
     "output_type": "execute_result"
    }
   ],
   "source": [
    "df_now['b_ab'] = round(df_now['b_ab'] * df_now['progress'], 0)\n",
    "df_now['b_total_pa'] = round(df_now['b_total_pa'] * df_now['progress'], 0)\n",
    "df_now['barrels'] = round(df_now['barrels'] * df_now['progress'], 0)\n",
    "df_now.head()"
   ]
  },
  {
   "cell_type": "code",
   "execution_count": 53,
   "id": "999a42ea-cf38-4dfc-8a6c-2d567dd5e65e",
   "metadata": {},
   "outputs": [
    {
     "name": "stdout",
     "output_type": "stream",
     "text": [
      "Index(['player_id', 'b_ab', 'b_total_pa', 'xslg', 'xwoba', 'xobp', 'xiso',\n",
      "       'xwobacon', 'xbacon', 'exit_velocity_avg', 'launch_angle_avg',\n",
      "       'barrels', 'barrel_batted_rate', 'hard_hit_percent',\n",
      "       'z_swing_miss_percent', 'oz_contact_percent', 'flyballs_percent'],\n",
      "      dtype='object') (705, 17)\n",
      "Index(['player_id', 'b_ab', 'b_total_pa', 'xslg', 'xwoba', 'xobp', 'xiso',\n",
      "       'xwobacon', 'xbacon', 'exit_velocity_avg', 'launch_angle_avg',\n",
      "       'barrels', 'barrel_batted_rate', 'hard_hit_percent',\n",
      "       'z_swing_miss_percent', 'oz_contact_percent', 'flyballs_percent'],\n",
      "      dtype='object') (137, 17)\n"
     ]
    }
   ],
   "source": [
    "import numpy as np\n",
    "\n",
    "# b_game(게임 수), progress(진행률) 칼럼 삭제\n",
    "df_now = df_now.drop(['b_game', 'progress'], axis=1)\n",
    "\n",
    "# old data에서 로그변환한 홈런 칼럼 따로 저장하고 삭제\n",
    "y_data = np.log1p(df_old['b_home_run'])\n",
    "df_old = df_old.drop(['b_home_run'], axis=1)\n",
    "\n",
    "# shape 비교\n",
    "print(df_old.columns, df_old.shape)\n",
    "print(df_now.columns, df_now.shape)"
   ]
  },
  {
   "cell_type": "markdown",
   "id": "8eb41819-e063-4a72-9c46-1b0f60c39590",
   "metadata": {},
   "source": [
    "### 데이터 합치기 (concat)\n",
    "- 데이터 한번에 handling 하기 위해 concat"
   ]
  },
  {
   "cell_type": "code",
   "execution_count": 54,
   "id": "bb5903ce-92c7-44ea-a9cf-d79c5d51a3f7",
   "metadata": {},
   "outputs": [
    {
     "data": {
      "text/html": [
       "<div>\n",
       "<style scoped>\n",
       "    .dataframe tbody tr th:only-of-type {\n",
       "        vertical-align: middle;\n",
       "    }\n",
       "\n",
       "    .dataframe tbody tr th {\n",
       "        vertical-align: top;\n",
       "    }\n",
       "\n",
       "    .dataframe thead th {\n",
       "        text-align: right;\n",
       "    }\n",
       "</style>\n",
       "<table border=\"1\" class=\"dataframe\">\n",
       "  <thead>\n",
       "    <tr style=\"text-align: right;\">\n",
       "      <th></th>\n",
       "      <th>player_id</th>\n",
       "      <th>b_ab</th>\n",
       "      <th>b_total_pa</th>\n",
       "      <th>xslg</th>\n",
       "      <th>xwoba</th>\n",
       "      <th>xobp</th>\n",
       "      <th>xiso</th>\n",
       "      <th>xwobacon</th>\n",
       "      <th>xbacon</th>\n",
       "      <th>exit_velocity_avg</th>\n",
       "      <th>launch_angle_avg</th>\n",
       "      <th>barrels</th>\n",
       "      <th>barrel_batted_rate</th>\n",
       "      <th>hard_hit_percent</th>\n",
       "      <th>z_swing_miss_percent</th>\n",
       "      <th>oz_contact_percent</th>\n",
       "      <th>flyballs_percent</th>\n",
       "    </tr>\n",
       "  </thead>\n",
       "  <tbody>\n",
       "    <tr>\n",
       "      <th>142</th>\n",
       "      <td>116338</td>\n",
       "      <td>521.00000</td>\n",
       "      <td>567.00000</td>\n",
       "      <td>0.37000</td>\n",
       "      <td>0.29000</td>\n",
       "      <td>0.28500</td>\n",
       "      <td>0.14000</td>\n",
       "      <td>0.32500</td>\n",
       "      <td>0.28700</td>\n",
       "      <td>88.50000</td>\n",
       "      <td>10.80000</td>\n",
       "      <td>21.00000</td>\n",
       "      <td>5.00000</td>\n",
       "      <td>35.30000</td>\n",
       "      <td>17.20000</td>\n",
       "      <td>63.70000</td>\n",
       "      <td>22.60000</td>\n",
       "    </tr>\n",
       "    <tr>\n",
       "      <th>143</th>\n",
       "      <td>120074</td>\n",
       "      <td>528.00000</td>\n",
       "      <td>614.00000</td>\n",
       "      <td>0.61100</td>\n",
       "      <td>0.41700</td>\n",
       "      <td>0.38500</td>\n",
       "      <td>0.31200</td>\n",
       "      <td>0.47000</td>\n",
       "      <td>0.36100</td>\n",
       "      <td>93.00000</td>\n",
       "      <td>15.70000</td>\n",
       "      <td>58.00000</td>\n",
       "      <td>13.10000</td>\n",
       "      <td>49.50000</td>\n",
       "      <td>17.00000</td>\n",
       "      <td>65.40000</td>\n",
       "      <td>25.60000</td>\n",
       "    </tr>\n",
       "    <tr>\n",
       "      <th>144</th>\n",
       "      <td>121347</td>\n",
       "      <td>523.00000</td>\n",
       "      <td>620.00000</td>\n",
       "      <td>0.49100</td>\n",
       "      <td>0.36600</td>\n",
       "      <td>0.35400</td>\n",
       "      <td>0.24600</td>\n",
       "      <td>0.43200</td>\n",
       "      <td>0.33600</td>\n",
       "      <td>91.30000</td>\n",
       "      <td>12.20000</td>\n",
       "      <td>42.00000</td>\n",
       "      <td>10.90000</td>\n",
       "      <td>44.20000</td>\n",
       "      <td>26.10000</td>\n",
       "      <td>53.10000</td>\n",
       "      <td>24.90000</td>\n",
       "    </tr>\n",
       "    <tr>\n",
       "      <th>145</th>\n",
       "      <td>133380</td>\n",
       "      <td>475.00000</td>\n",
       "      <td>516.00000</td>\n",
       "      <td>0.40000</td>\n",
       "      <td>0.30000</td>\n",
       "      <td>0.29000</td>\n",
       "      <td>0.16200</td>\n",
       "      <td>0.31800</td>\n",
       "      <td>0.27500</td>\n",
       "      <td>87.40000</td>\n",
       "      <td>15.80000</td>\n",
       "      <td>23.00000</td>\n",
       "      <td>5.60000</td>\n",
       "      <td>35.00000</td>\n",
       "      <td>12.30000</td>\n",
       "      <td>70.90000</td>\n",
       "      <td>24.50000</td>\n",
       "    </tr>\n",
       "    <tr>\n",
       "      <th>146</th>\n",
       "      <td>134181</td>\n",
       "      <td>567.00000</td>\n",
       "      <td>619.00000</td>\n",
       "      <td>0.47700</td>\n",
       "      <td>0.35700</td>\n",
       "      <td>0.34300</td>\n",
       "      <td>0.18500</td>\n",
       "      <td>0.37600</td>\n",
       "      <td>0.33000</td>\n",
       "      <td>89.50000</td>\n",
       "      <td>12.60000</td>\n",
       "      <td>28.00000</td>\n",
       "      <td>5.50000</td>\n",
       "      <td>40.80000</td>\n",
       "      <td>10.90000</td>\n",
       "      <td>74.80000</td>\n",
       "      <td>18.40000</td>\n",
       "    </tr>\n",
       "  </tbody>\n",
       "</table>\n",
       "</div>"
      ],
      "text/plain": [
       "     player_id      b_ab  b_total_pa    xslg   xwoba    xobp    xiso  \\\n",
       "142     116338 521.00000   567.00000 0.37000 0.29000 0.28500 0.14000   \n",
       "143     120074 528.00000   614.00000 0.61100 0.41700 0.38500 0.31200   \n",
       "144     121347 523.00000   620.00000 0.49100 0.36600 0.35400 0.24600   \n",
       "145     133380 475.00000   516.00000 0.40000 0.30000 0.29000 0.16200   \n",
       "146     134181 567.00000   619.00000 0.47700 0.35700 0.34300 0.18500   \n",
       "\n",
       "     xwobacon  xbacon  exit_velocity_avg  launch_angle_avg  barrels  \\\n",
       "142   0.32500 0.28700           88.50000          10.80000 21.00000   \n",
       "143   0.47000 0.36100           93.00000          15.70000 58.00000   \n",
       "144   0.43200 0.33600           91.30000          12.20000 42.00000   \n",
       "145   0.31800 0.27500           87.40000          15.80000 23.00000   \n",
       "146   0.37600 0.33000           89.50000          12.60000 28.00000   \n",
       "\n",
       "     barrel_batted_rate  hard_hit_percent  z_swing_miss_percent  \\\n",
       "142             5.00000          35.30000              17.20000   \n",
       "143            13.10000          49.50000              17.00000   \n",
       "144            10.90000          44.20000              26.10000   \n",
       "145             5.60000          35.00000              12.30000   \n",
       "146             5.50000          40.80000              10.90000   \n",
       "\n",
       "     oz_contact_percent  flyballs_percent  \n",
       "142            63.70000          22.60000  \n",
       "143            65.40000          25.60000  \n",
       "144            53.10000          24.90000  \n",
       "145            70.90000          24.50000  \n",
       "146            74.80000          18.40000  "
      ]
     },
     "execution_count": 54,
     "metadata": {},
     "output_type": "execute_result"
    }
   ],
   "source": [
    "df = pd.concat((df_old, df_now))\n",
    "df.head()"
   ]
  },
  {
   "cell_type": "code",
   "execution_count": 55,
   "id": "d6b9ccfa-e7c1-4036-b620-14084abd3e8e",
   "metadata": {},
   "outputs": [
    {
     "data": {
      "text/plain": [
       "(842, 17)"
      ]
     },
     "execution_count": 55,
     "metadata": {},
     "output_type": "execute_result"
    }
   ],
   "source": [
    "df.shape"
   ]
  },
  {
   "cell_type": "markdown",
   "id": "1b5d58ef-ca60-4495-843b-2fcb2519e4e8",
   "metadata": {},
   "source": [
    "### 결측치 확인"
   ]
  },
  {
   "cell_type": "code",
   "execution_count": 56,
   "id": "9d5f0b02-2e33-41c5-8f4c-fd58a4e52b13",
   "metadata": {},
   "outputs": [
    {
     "data": {
      "text/plain": [
       "player_id              0.00000\n",
       "b_ab                   0.00000\n",
       "b_total_pa             0.00000\n",
       "xslg                   0.00000\n",
       "xwoba                  0.00000\n",
       "xobp                   0.00000\n",
       "xiso                   0.00000\n",
       "xwobacon               0.00000\n",
       "xbacon                 0.00000\n",
       "exit_velocity_avg      0.00000\n",
       "launch_angle_avg       0.00000\n",
       "barrels                0.00000\n",
       "barrel_batted_rate     0.00000\n",
       "hard_hit_percent       0.00000\n",
       "z_swing_miss_percent   0.00000\n",
       "oz_contact_percent     0.00000\n",
       "flyballs_percent       0.00000\n",
       "dtype: float64"
      ]
     },
     "execution_count": 56,
     "metadata": {},
     "output_type": "execute_result"
    }
   ],
   "source": [
    "null = (df.isna().sum() / len(df) * 100)\n",
    "null"
   ]
  },
  {
   "cell_type": "markdown",
   "id": "da92ac8e-b6ce-4d0e-bbeb-0ce4fe10674f",
   "metadata": {},
   "source": [
    "### 왜도 확인 및 box-cox 변환"
   ]
  },
  {
   "cell_type": "code",
   "execution_count": 57,
   "id": "57ec1531-e2e6-49e9-a473-e24e013a0185",
   "metadata": {},
   "outputs": [],
   "source": [
    "from scipy.stats import skew \n",
    "\n",
    "skewness = df.apply(lambda x: skew(x.dropna())).sort_values(ascending=False)"
   ]
  },
  {
   "cell_type": "code",
   "execution_count": 58,
   "id": "1c821088-7ca0-4f69-8b5e-888c437efc83",
   "metadata": {},
   "outputs": [
    {
     "name": "stdout",
     "output_type": "stream",
     "text": [
      "player_id   -1.26594\n",
      "dtype: float64\n",
      "Index(['player_id'], dtype='object')\n"
     ]
    }
   ],
   "source": [
    "high_skewness = skewness[abs(skewness) > 1] # 왜도 값이 1 이상인 칼럼만 채택\n",
    "skew_feats = high_skewness.index\n",
    "print(high_skewness)\n",
    "print(skew_feats)"
   ]
  },
  {
   "cell_type": "markdown",
   "id": "26c31faa-4ba0-4602-8b95-be6205f7022d",
   "metadata": {},
   "source": [
    "### 학습과정에서 필요없는 column drop"
   ]
  },
  {
   "cell_type": "code",
   "execution_count": 59,
   "id": "0458af33-d4e7-4f16-b942-b0eb32604ece",
   "metadata": {},
   "outputs": [],
   "source": [
    "x_train = df_old.drop(['player_id'], axis=1)\n",
    "x_test = df_now.drop(['player_id'], axis=1)"
   ]
  },
  {
   "cell_type": "markdown",
   "id": "8f97f02d-b5d2-406e-aae8-c952c9894b0d",
   "metadata": {},
   "source": [
    "## 학습모델링"
   ]
  },
  {
   "cell_type": "code",
   "execution_count": 60,
   "id": "a0b080ef-cb62-4381-b36e-98cf8541b1b1",
   "metadata": {},
   "outputs": [],
   "source": [
    "# 사용할 모델 import\n",
    "from sklearn.model_selection import KFold, cross_val_score, GridSearchCV\n",
    "from sklearn.metrics import mean_squared_error\n",
    "from sklearn.pipeline import make_pipeline\n",
    "from sklearn.ensemble import RandomForestRegressor, GradientBoostingRegressor\n",
    "from xgboost import XGBRegressor\n",
    "from lightgbm import LGBMRegressor\n",
    "from sklearn.linear_model import ElasticNet, Lasso, LinearRegression"
   ]
  },
  {
   "cell_type": "markdown",
   "id": "87f4befc-504c-4892-9840-3d4573096379",
   "metadata": {},
   "source": [
    "### RobustScaler\n",
    "- 중앙값과 IQR 사용하여 아웃라이어의 영향 최소화"
   ]
  },
  {
   "cell_type": "code",
   "execution_count": 61,
   "id": "db7ce838-4949-4f30-a39f-3649a4e6559e",
   "metadata": {},
   "outputs": [],
   "source": [
    "from sklearn.preprocessing import RobustScaler\n",
    "\n",
    "rbst_scaler=RobustScaler()\n",
    "X_rbst=rbst_scaler.fit_transform(x_train)\n",
    "test_rbst=rbst_scaler.transform(x_test)"
   ]
  },
  {
   "cell_type": "markdown",
   "id": "a37cb19c-1cad-4fdd-ba07-4ac7cc12e71b",
   "metadata": {},
   "source": [
    "### KFold 검정"
   ]
  },
  {
   "cell_type": "code",
   "execution_count": 62,
   "id": "ed820bcc-3f93-4765-9e6d-d31ce89ece52",
   "metadata": {},
   "outputs": [],
   "source": [
    "kfold = KFold(n_splits=4)\n",
    "\n",
    "random_state = 1\n",
    "reg = []\n",
    "\n",
    "reg.append(Lasso(random_state = random_state))\n",
    "reg.append(ElasticNet(random_state = random_state))\n",
    "reg.append(RandomForestRegressor(random_state=random_state))\n",
    "reg.append(GradientBoostingRegressor(random_state=random_state))\n",
    "reg.append(XGBRegressor(silent=True,random_state=random_state))\n",
    "reg.append(LGBMRegressor(verbose_eval=False,random_state = random_state))\n",
    "\n",
    "# print(reg)\n",
    "\n",
    "reg_results = []\n",
    "\n",
    "for regre in reg :\n",
    "    reg_results.append(np.mean(np.sqrt(-cross_val_score(regre, X_rbst, y = y_data ,scoring = 'neg_mean_squared_error',\n",
    "                                       cv = kfold, n_jobs=-4))))"
   ]
  },
  {
   "cell_type": "code",
   "execution_count": 63,
   "id": "3aad4bcd-d23d-4e15-a4d8-8ef61096d5ab",
   "metadata": {},
   "outputs": [],
   "source": [
    "reg_means = []\n",
    "reg_std = []\n",
    "for reg_result in reg_results:\n",
    "    reg_means.append(reg_result.mean())\n",
    "    reg_std.append(reg_result.std())"
   ]
  },
  {
   "cell_type": "code",
   "execution_count": 64,
   "id": "fef1e023-fad3-422f-a462-6c6349ca363b",
   "metadata": {},
   "outputs": [
    {
     "data": {
      "text/html": [
       "<div>\n",
       "<style scoped>\n",
       "    .dataframe tbody tr th:only-of-type {\n",
       "        vertical-align: middle;\n",
       "    }\n",
       "\n",
       "    .dataframe tbody tr th {\n",
       "        vertical-align: top;\n",
       "    }\n",
       "\n",
       "    .dataframe thead th {\n",
       "        text-align: right;\n",
       "    }\n",
       "</style>\n",
       "<table border=\"1\" class=\"dataframe\">\n",
       "  <thead>\n",
       "    <tr style=\"text-align: right;\">\n",
       "      <th></th>\n",
       "      <th>CrossValMeans</th>\n",
       "      <th>CrossValerrors</th>\n",
       "    </tr>\n",
       "  </thead>\n",
       "  <tbody>\n",
       "    <tr>\n",
       "      <th>0</th>\n",
       "      <td>0.54101</td>\n",
       "      <td>0.00000</td>\n",
       "    </tr>\n",
       "    <tr>\n",
       "      <th>1</th>\n",
       "      <td>0.54101</td>\n",
       "      <td>0.00000</td>\n",
       "    </tr>\n",
       "    <tr>\n",
       "      <th>2</th>\n",
       "      <td>0.24434</td>\n",
       "      <td>0.00000</td>\n",
       "    </tr>\n",
       "    <tr>\n",
       "      <th>3</th>\n",
       "      <td>0.24773</td>\n",
       "      <td>0.00000</td>\n",
       "    </tr>\n",
       "    <tr>\n",
       "      <th>4</th>\n",
       "      <td>0.26819</td>\n",
       "      <td>0.00000</td>\n",
       "    </tr>\n",
       "    <tr>\n",
       "      <th>5</th>\n",
       "      <td>0.24913</td>\n",
       "      <td>0.00000</td>\n",
       "    </tr>\n",
       "  </tbody>\n",
       "</table>\n",
       "</div>"
      ],
      "text/plain": [
       "   CrossValMeans  CrossValerrors\n",
       "0        0.54101         0.00000\n",
       "1        0.54101         0.00000\n",
       "2        0.24434         0.00000\n",
       "3        0.24773         0.00000\n",
       "4        0.26819         0.00000\n",
       "5        0.24913         0.00000"
      ]
     },
     "execution_count": 64,
     "metadata": {},
     "output_type": "execute_result"
    }
   ],
   "source": [
    "# 위에서부터 Lasso, ElasticNet, RandomForest, GradientBoosting, XGBoost, LGBM에 대한 교차검증결과\n",
    "# 평균이 낮을수록 좋음\n",
    "\n",
    "reg_re = pd.DataFrame({\"CrossValMeans\":reg_means,\"CrossValerrors\": reg_std})\n",
    "reg_re"
   ]
  },
  {
   "cell_type": "markdown",
   "id": "abd5a36e-a1cf-43c1-af98-b1d4c31bde71",
   "metadata": {},
   "source": [
    "- CrossValMeans 확인 : GradeintBoosting, RandomForest, LightGBM 모델에 대해 파라미터 튜닝 결정"
   ]
  },
  {
   "cell_type": "code",
   "execution_count": 65,
   "id": "ca5c9f70-a3cf-4d4b-9057-ef4bd1699937",
   "metadata": {},
   "outputs": [
    {
     "name": "stdout",
     "output_type": "stream",
     "text": [
      "Fitting 4 folds for each of 243 candidates, totalling 972 fits\n"
     ]
    },
    {
     "name": "stderr",
     "output_type": "stream",
     "text": [
      "[Parallel(n_jobs=4)]: Using backend LokyBackend with 4 concurrent workers.\n",
      "[Parallel(n_jobs=4)]: Done 116 tasks      | elapsed:    1.1s\n",
      "[Parallel(n_jobs=4)]: Done 972 out of 972 | elapsed:    6.3s finished\n"
     ]
    },
    {
     "data": {
      "text/plain": [
       "-0.05511307365541894"
      ]
     },
     "execution_count": 65,
     "metadata": {},
     "output_type": "execute_result"
    }
   ],
   "source": [
    "# Gradient boosting 파라미터 튜닝\n",
    "GBC = GradientBoostingRegressor()\n",
    "gb_param_grid = {'n_estimators' : [30,50,100],\n",
    "              'learning_rate': [0.1, 0.01, 0.2],\n",
    "              'max_depth': [3, 4, 5],\n",
    "              'min_samples_leaf': [20,30,40],\n",
    "              'max_features': [0.3, 0.2, 0.15] \n",
    "              }\n",
    "gsGBC = GridSearchCV(GBC,param_grid = gb_param_grid, cv=kfold, scoring=\"neg_mean_squared_error\", n_jobs= 4, verbose = 1)\n",
    "gsGBC.fit(X_rbst,y_data)\n",
    "GBC_best = gsGBC.best_estimator_\n",
    "\n",
    "# 최고 점수\n",
    "gsGBC.best_score_"
   ]
  },
  {
   "cell_type": "code",
   "execution_count": 66,
   "id": "c7d6c916-10f4-46df-8767-d77a2949ce31",
   "metadata": {},
   "outputs": [
    {
     "name": "stdout",
     "output_type": "stream",
     "text": [
      "GradientBoostingRegressor(alpha=0.9, ccp_alpha=0.0, criterion='friedman_mse',\n",
      "                          init=None, learning_rate=0.1, loss='ls', max_depth=3,\n",
      "                          max_features=0.3, max_leaf_nodes=None,\n",
      "                          min_impurity_decrease=0.0, min_impurity_split=None,\n",
      "                          min_samples_leaf=20, min_samples_split=2,\n",
      "                          min_weight_fraction_leaf=0.0, n_estimators=100,\n",
      "                          n_iter_no_change=None, presort='deprecated',\n",
      "                          random_state=None, subsample=1.0, tol=0.0001,\n",
      "                          validation_fraction=0.1, verbose=0, warm_start=False)\n"
     ]
    }
   ],
   "source": [
    "print(gsGBC.best_estimator_)"
   ]
  },
  {
   "cell_type": "code",
   "execution_count": 67,
   "id": "e4abf60d-724c-45d8-a998-aa10f4142f13",
   "metadata": {},
   "outputs": [
    {
     "name": "stdout",
     "output_type": "stream",
     "text": [
      "Fitting 4 folds for each of 240 candidates, totalling 960 fits\n"
     ]
    },
    {
     "name": "stderr",
     "output_type": "stream",
     "text": [
      "[Parallel(n_jobs=4)]: Using backend LokyBackend with 4 concurrent workers.\n",
      "[Parallel(n_jobs=4)]: Done 200 tasks      | elapsed:    1.2s\n",
      "[Parallel(n_jobs=4)]: Done 960 out of 960 | elapsed:    5.4s finished\n"
     ]
    },
    {
     "data": {
      "text/plain": [
       "-0.05474415311434598"
      ]
     },
     "execution_count": 67,
     "metadata": {},
     "output_type": "execute_result"
    }
   ],
   "source": [
    "# RandomForest 파라미터 튜닝\n",
    "RF = RandomForestRegressor()\n",
    "rf_param_grid = {'n_estimators' : [10, 20, 30],\n",
    "              'max_depth': [6, 8, 10, 12, 15],\n",
    "              'min_samples_leaf': [5, 10, 20, 30],\n",
    "              'max_features': [0.4, 0.6, 0.8, 1] \n",
    "              }\n",
    "gsRF = GridSearchCV(RF,param_grid = rf_param_grid, cv=kfold, scoring=\"neg_mean_squared_error\", n_jobs= 4, verbose = 1)\n",
    "gsRF.fit(X_rbst,y_data)\n",
    "RF_best = gsRF.best_estimator_\n",
    "\n",
    "# 최고 점수\n",
    "gsRF.best_score_"
   ]
  },
  {
   "cell_type": "code",
   "execution_count": 68,
   "id": "91441616-882f-449b-ab43-90c45941d535",
   "metadata": {},
   "outputs": [
    {
     "name": "stdout",
     "output_type": "stream",
     "text": [
      "RandomForestRegressor(bootstrap=True, ccp_alpha=0.0, criterion='mse',\n",
      "                      max_depth=8, max_features=0.4, max_leaf_nodes=None,\n",
      "                      max_samples=None, min_impurity_decrease=0.0,\n",
      "                      min_impurity_split=None, min_samples_leaf=5,\n",
      "                      min_samples_split=2, min_weight_fraction_leaf=0.0,\n",
      "                      n_estimators=30, n_jobs=None, oob_score=False,\n",
      "                      random_state=None, verbose=0, warm_start=False)\n"
     ]
    }
   ],
   "source": [
    "print(gsRF.best_estimator_)"
   ]
  },
  {
   "cell_type": "code",
   "execution_count": 69,
   "id": "32d312a2-e767-4404-983d-6a7b69c3f8cc",
   "metadata": {},
   "outputs": [
    {
     "name": "stdout",
     "output_type": "stream",
     "text": [
      "Fitting 4 folds for each of 81 candidates, totalling 324 fits\n"
     ]
    },
    {
     "name": "stderr",
     "output_type": "stream",
     "text": [
      "[Parallel(n_jobs=4)]: Using backend LokyBackend with 4 concurrent workers.\n",
      "[Parallel(n_jobs=4)]: Done 116 tasks      | elapsed:    0.6s\n",
      "[Parallel(n_jobs=4)]: Done 324 out of 324 | elapsed:    1.0s finished\n"
     ]
    },
    {
     "data": {
      "text/plain": [
       "-0.05724827980153845"
      ]
     },
     "execution_count": 69,
     "metadata": {},
     "output_type": "execute_result"
    }
   ],
   "source": [
    "#LGBMClassifier 파라미터 튜닝\n",
    "LGB = LGBMRegressor()\n",
    "lgb_param_grid = {\n",
    "    'n_estimators' : [30, 50, 70],\n",
    "    'learning_rate': [0.1],\n",
    "    'max_depth': [5, 10, 15],\n",
    "    'num_leaves': [10, 30, 50],\n",
    "    'min_split_gain': [0.1, 0.2, 0.3],\n",
    "}\n",
    "gsLGB = GridSearchCV(LGB,param_grid = lgb_param_grid, cv=kfold, scoring=\"neg_mean_squared_error\", n_jobs= 4, verbose = 1)\n",
    "gsLGB.fit(X_rbst,y_data)\n",
    "LGB_best = gsLGB.best_estimator_\n",
    "\n",
    "# 최고 점수\n",
    "gsLGB.best_score_"
   ]
  },
  {
   "cell_type": "code",
   "execution_count": 70,
   "id": "c3f4520c-4d3e-4b8f-9c7d-5c50719c9f6e",
   "metadata": {},
   "outputs": [
    {
     "name": "stdout",
     "output_type": "stream",
     "text": [
      "LGBMRegressor(boosting_type='gbdt', class_weight=None, colsample_bytree=1.0,\n",
      "              importance_type='split', learning_rate=0.1, max_depth=10,\n",
      "              min_child_samples=20, min_child_weight=0.001, min_split_gain=0.2,\n",
      "              n_estimators=50, n_jobs=-1, num_leaves=10, objective=None,\n",
      "              random_state=None, reg_alpha=0.0, reg_lambda=0.0, silent=True,\n",
      "              subsample=1.0, subsample_for_bin=200000, subsample_freq=0)\n"
     ]
    }
   ],
   "source": [
    "print(gsLGB.best_estimator_)"
   ]
  },
  {
   "cell_type": "markdown",
   "id": "6b33d725-976d-4ef9-9151-79656e62f5a5",
   "metadata": {},
   "source": [
    "## 예측\n",
    "- 앙상블"
   ]
  },
  {
   "cell_type": "code",
   "execution_count": 71,
   "id": "4db02200-dda9-4937-beb0-4707165fc545",
   "metadata": {},
   "outputs": [
    {
     "data": {
      "image/png": "[encoded data removed]",
      "text/plain": [
       "<Figure size 432x288 with 2 Axes>"
      ]
     },
     "metadata": {
      "needs_background": "light"
     },
     "output_type": "display_data"
    }
   ],
   "source": [
    "test_Survived_GBC = pd.Series(GBC_best.predict(test_rbst), name=\"GBC\")\n",
    "test_Survived_RF = pd.Series(RF_best.predict(test_rbst), name=\"RF\")\n",
    "test_Survived_LGB = pd.Series(LGB_best.predict(test_rbst), name=\"LGB\")\n",
    "\n",
    "ensemble_results = pd.concat([test_Survived_RF,test_Survived_LGB,\n",
    "                              test_Survived_GBC],axis=1)\n",
    "g= sns.heatmap(ensemble_results.corr(),annot=True)"
   ]
  },
  {
   "cell_type": "code",
   "execution_count": 77,
   "id": "04400005-b297-4bb4-b5e6-5657f46e6692",
   "metadata": {},
   "outputs": [
    {
     "data": {
      "text/html": [
       "<div>\n",
       "<style scoped>\n",
       "    .dataframe tbody tr th:only-of-type {\n",
       "        vertical-align: middle;\n",
       "    }\n",
       "\n",
       "    .dataframe tbody tr th {\n",
       "        vertical-align: top;\n",
       "    }\n",
       "\n",
       "    .dataframe thead th {\n",
       "        text-align: right;\n",
       "    }\n",
       "</style>\n",
       "<table border=\"1\" class=\"dataframe\">\n",
       "  <thead>\n",
       "    <tr style=\"text-align: right;\">\n",
       "      <th></th>\n",
       "      <th>player_id</th>\n",
       "      <th>name</th>\n",
       "      <th>HR</th>\n",
       "    </tr>\n",
       "  </thead>\n",
       "  <tbody>\n",
       "    <tr>\n",
       "      <th>0</th>\n",
       "      <td>408234</td>\n",
       "      <td>Cabrera Miguel</td>\n",
       "      <td>15.26545</td>\n",
       "    </tr>\n",
       "    <tr>\n",
       "      <th>1</th>\n",
       "      <td>443558</td>\n",
       "      <td>Cruz Jr. Nelson</td>\n",
       "      <td>29.69263</td>\n",
       "    </tr>\n",
       "    <tr>\n",
       "      <th>2</th>\n",
       "      <td>444482</td>\n",
       "      <td>Peralta David</td>\n",
       "      <td>12.15067</td>\n",
       "    </tr>\n",
       "    <tr>\n",
       "      <th>3</th>\n",
       "      <td>453568</td>\n",
       "      <td>Blackmon Charlie</td>\n",
       "      <td>13.97717</td>\n",
       "    </tr>\n",
       "    <tr>\n",
       "      <th>4</th>\n",
       "      <td>457705</td>\n",
       "      <td>McCutchen Andrew</td>\n",
       "      <td>22.29783</td>\n",
       "    </tr>\n",
       "  </tbody>\n",
       "</table>\n",
       "</div>"
      ],
      "text/plain": [
       "   player_id              name       HR\n",
       "0     408234    Cabrera Miguel 15.26545\n",
       "1     443558   Cruz Jr. Nelson 29.69263\n",
       "2     444482     Peralta David 12.15067\n",
       "3     453568  Blackmon Charlie 13.97717\n",
       "4     457705  McCutchen Andrew 22.29783"
      ]
     },
     "execution_count": 77,
     "metadata": {},
     "output_type": "execute_result"
    }
   ],
   "source": [
    "ensemble = np.expm1(0.1*test_Survived_GBC + 0.8*test_Survived_RF + 0.1*test_Survived_LGB)\n",
    "prediction = pd.DataFrame({\n",
    "    \"player_id\" :player_id,\n",
    "    \"name\" : name,\n",
    "    \"HR\": ensemble\n",
    "})\n",
    "prediction.head()"
   ]
  },
  {
   "cell_type": "code",
   "execution_count": 83,
   "id": "c202411b-c63e-464e-a7b1-3933379460e0",
   "metadata": {},
   "outputs": [],
   "source": [
    "prediction.to_csv('ensemble.csv')"
   ]
  },
  {
   "cell_type": "markdown",
   "id": "c7e6c027-0e3c-40e6-8625-c15eb5c62f88",
   "metadata": {},
   "source": [
    "- 보팅 (Voting)"
   ]
  },
  {
   "cell_type": "code",
   "execution_count": 79,
   "id": "bfc5a7d8-6615-46a7-9ebf-a06384ce1f1c",
   "metadata": {},
   "outputs": [],
   "source": [
    "from sklearn.ensemble import VotingRegressor\n",
    "\n",
    "votingC = VotingRegressor(estimators=[('RF', RF_best), ('LGB', LGB_best), ('GBC',GBC_best)], n_jobs=4)\n",
    "votingC = votingC.fit(X_rbst, y_data)  "
   ]
  },
  {
   "cell_type": "code",
   "execution_count": 80,
   "id": "d39e9be2-ad30-41a1-90ee-9d80b3312916",
   "metadata": {},
   "outputs": [],
   "source": [
    "test_HR = pd.Series(votingC.predict(test_rbst), name=\"HR\")"
   ]
  },
  {
   "cell_type": "code",
   "execution_count": 81,
   "id": "222d3fdb-aaf3-44f9-98ae-8d8e6009084c",
   "metadata": {},
   "outputs": [
    {
     "data": {
      "text/html": [
       "<div>\n",
       "<style scoped>\n",
       "    .dataframe tbody tr th:only-of-type {\n",
       "        vertical-align: middle;\n",
       "    }\n",
       "\n",
       "    .dataframe tbody tr th {\n",
       "        vertical-align: top;\n",
       "    }\n",
       "\n",
       "    .dataframe thead th {\n",
       "        text-align: right;\n",
       "    }\n",
       "</style>\n",
       "<table border=\"1\" class=\"dataframe\">\n",
       "  <thead>\n",
       "    <tr style=\"text-align: right;\">\n",
       "      <th></th>\n",
       "      <th>player_id</th>\n",
       "      <th>name</th>\n",
       "      <th>HR</th>\n",
       "    </tr>\n",
       "  </thead>\n",
       "  <tbody>\n",
       "    <tr>\n",
       "      <th>0</th>\n",
       "      <td>408234</td>\n",
       "      <td>Cabrera Miguel</td>\n",
       "      <td>15.03031</td>\n",
       "    </tr>\n",
       "    <tr>\n",
       "      <th>1</th>\n",
       "      <td>443558</td>\n",
       "      <td>Cruz Jr. Nelson</td>\n",
       "      <td>28.22319</td>\n",
       "    </tr>\n",
       "    <tr>\n",
       "      <th>2</th>\n",
       "      <td>444482</td>\n",
       "      <td>Peralta David</td>\n",
       "      <td>12.51823</td>\n",
       "    </tr>\n",
       "    <tr>\n",
       "      <th>3</th>\n",
       "      <td>453568</td>\n",
       "      <td>Blackmon Charlie</td>\n",
       "      <td>12.97242</td>\n",
       "    </tr>\n",
       "    <tr>\n",
       "      <th>4</th>\n",
       "      <td>457705</td>\n",
       "      <td>McCutchen Andrew</td>\n",
       "      <td>21.77031</td>\n",
       "    </tr>\n",
       "  </tbody>\n",
       "</table>\n",
       "</div>"
      ],
      "text/plain": [
       "   player_id              name       HR\n",
       "0     408234    Cabrera Miguel 15.03031\n",
       "1     443558   Cruz Jr. Nelson 28.22319\n",
       "2     444482     Peralta David 12.51823\n",
       "3     453568  Blackmon Charlie 12.97242\n",
       "4     457705  McCutchen Andrew 21.77031"
      ]
     },
     "execution_count": 81,
     "metadata": {},
     "output_type": "execute_result"
    }
   ],
   "source": [
    "predict_voting = pd.DataFrame({\n",
    "    \"player_id\" :player_id,\n",
    "    \"name\" : name,\n",
    "    \"HR\": np.expm1(test_HR)\n",
    "})\n",
    "predict_voting.head()"
   ]
  },
  {
   "cell_type": "code",
   "execution_count": 84,
   "id": "1fc71975-6d3f-4058-98d3-81c4433fb006",
   "metadata": {},
   "outputs": [],
   "source": [
    "predict_voting.to_csv('voting.csv')"
   ]
  },
  {
   "cell_type": "markdown",
   "id": "aa270393-d6e0-4664-acdc-158edd6909f8",
   "metadata": {},
   "source": [
    "- 스태킹(stacking)"
   ]
  },
  {
   "cell_type": "code",
   "execution_count": 87,
   "id": "5db3e1ac-62fa-4db7-ae26-abf09c021b85",
   "metadata": {},
   "outputs": [
    {
     "name": "stderr",
     "output_type": "stream",
     "text": [
      "/home/minding/anaconda3/lib/python3.8/site-packages/sklearn/utils/deprecation.py:144: FutureWarning: The sklearn.utils.testing module is  deprecated in version 0.22 and will be removed in version 0.24. The corresponding classes / functions should instead be imported from sklearn.utils. Anything that cannot be imported from sklearn.utils is now part of the private API.\n",
      "  warnings.warn(message, FutureWarning)\n"
     ]
    }
   ],
   "source": [
    "from mlxtend.regressor import StackingRegressor\n",
    "from sklearn.linear_model import LogisticRegression\n",
    "from sklearn.utils.testing import ignore_warnings"
   ]
  },
  {
   "cell_type": "code",
   "execution_count": 88,
   "id": "9421cb11-19be-4b29-9e1a-f0849bf9cb2f",
   "metadata": {},
   "outputs": [],
   "source": [
    "params = {'meta_regressor__C': [0.1, 1.0, 10.0, 100.0],\n",
    "          'use_features_in_secondary' : [True, False]}"
   ]
  },
  {
   "cell_type": "code",
   "execution_count": 89,
   "id": "87ecabee-6672-4f34-802b-1c0b0306cde3",
   "metadata": {},
   "outputs": [],
   "source": [
    "clf1 = RF_best\n",
    "clf2 = LGB_best\n",
    "clf3 = GBC_best\n",
    "\n",
    "lr = LogisticRegression()\n",
    "st_re= StackingRegressor(regressors=[clf1, clf2, clf3], meta_regressor=RandomForestRegressor())\n",
    "st_mod = st_re.fit(X_rbst, y_data)\n",
    "st_pred = st_mod.predict(test_rbst)"
   ]
  },
  {
   "cell_type": "code",
   "execution_count": 90,
   "id": "dd06946f-3be0-4aed-8d60-d5f221f49a4f",
   "metadata": {},
   "outputs": [
    {
     "data": {
      "text/html": [
       "<div>\n",
       "<style scoped>\n",
       "    .dataframe tbody tr th:only-of-type {\n",
       "        vertical-align: middle;\n",
       "    }\n",
       "\n",
       "    .dataframe tbody tr th {\n",
       "        vertical-align: top;\n",
       "    }\n",
       "\n",
       "    .dataframe thead th {\n",
       "        text-align: right;\n",
       "    }\n",
       "</style>\n",
       "<table border=\"1\" class=\"dataframe\">\n",
       "  <thead>\n",
       "    <tr style=\"text-align: right;\">\n",
       "      <th></th>\n",
       "      <th>player_id</th>\n",
       "      <th>name</th>\n",
       "      <th>HR</th>\n",
       "    </tr>\n",
       "  </thead>\n",
       "  <tbody>\n",
       "    <tr>\n",
       "      <th>0</th>\n",
       "      <td>408234</td>\n",
       "      <td>Cabrera Miguel</td>\n",
       "      <td>17.37124</td>\n",
       "    </tr>\n",
       "    <tr>\n",
       "      <th>1</th>\n",
       "      <td>443558</td>\n",
       "      <td>Cruz Jr. Nelson</td>\n",
       "      <td>28.33614</td>\n",
       "    </tr>\n",
       "    <tr>\n",
       "      <th>2</th>\n",
       "      <td>444482</td>\n",
       "      <td>Peralta David</td>\n",
       "      <td>10.33489</td>\n",
       "    </tr>\n",
       "    <tr>\n",
       "      <th>3</th>\n",
       "      <td>453568</td>\n",
       "      <td>Blackmon Charlie</td>\n",
       "      <td>12.54181</td>\n",
       "    </tr>\n",
       "    <tr>\n",
       "      <th>4</th>\n",
       "      <td>457705</td>\n",
       "      <td>McCutchen Andrew</td>\n",
       "      <td>23.47967</td>\n",
       "    </tr>\n",
       "  </tbody>\n",
       "</table>\n",
       "</div>"
      ],
      "text/plain": [
       "   player_id              name       HR\n",
       "0     408234    Cabrera Miguel 17.37124\n",
       "1     443558   Cruz Jr. Nelson 28.33614\n",
       "2     444482     Peralta David 10.33489\n",
       "3     453568  Blackmon Charlie 12.54181\n",
       "4     457705  McCutchen Andrew 23.47967"
      ]
     },
     "execution_count": 90,
     "metadata": {},
     "output_type": "execute_result"
    }
   ],
   "source": [
    "predict_stacking = pd.DataFrame({\n",
    "    \"player_id\" :player_id,\n",
    "    \"name\" : name,\n",
    "    \"HR\": np.expm1(st_pred)\n",
    "})\n",
    "predict_stacking.head()"
   ]
  },
  {
   "cell_type": "code",
   "execution_count": 91,
   "id": "9e08d51f-6955-4b37-80bf-ba24e0bf2122",
   "metadata": {},
   "outputs": [],
   "source": [
    "predict_stacking.to_csv('stacking.csv')"
   ]
  },
  {
   "cell_type": "code",
   "execution_count": 92,
   "id": "e7782198-58e9-4d4e-a548-9582ff5d28ed",
   "metadata": {},
   "outputs": [
    {
     "data": {
      "text/html": [
       "<div>\n",
       "<style scoped>\n",
       "    .dataframe tbody tr th:only-of-type {\n",
       "        vertical-align: middle;\n",
       "    }\n",
       "\n",
       "    .dataframe tbody tr th {\n",
       "        vertical-align: top;\n",
       "    }\n",
       "\n",
       "    .dataframe thead th {\n",
       "        text-align: right;\n",
       "    }\n",
       "</style>\n",
       "<table border=\"1\" class=\"dataframe\">\n",
       "  <thead>\n",
       "    <tr style=\"text-align: right;\">\n",
       "      <th></th>\n",
       "      <th>last_name</th>\n",
       "      <th>first_name</th>\n",
       "      <th>player_id</th>\n",
       "      <th>year</th>\n",
       "      <th>b_home_run</th>\n",
       "      <th>xba</th>\n",
       "      <th>xslg</th>\n",
       "      <th>xwoba</th>\n",
       "      <th>xobp</th>\n",
       "      <th>xiso</th>\n",
       "      <th>exit_velocity_avg</th>\n",
       "      <th>launch_angle_avg</th>\n",
       "      <th>sweet_spot_percent</th>\n",
       "      <th>barrel_batted_rate</th>\n",
       "      <th>Unnamed: 14</th>\n",
       "    </tr>\n",
       "  </thead>\n",
       "  <tbody>\n",
       "    <tr>\n",
       "      <th>0</th>\n",
       "      <td>Cabrera</td>\n",
       "      <td>Miguel</td>\n",
       "      <td>408234</td>\n",
       "      <td>2021</td>\n",
       "      <td>7</td>\n",
       "      <td>0.22100</td>\n",
       "      <td>0.37500</td>\n",
       "      <td>0.29000</td>\n",
       "      <td>0.28100</td>\n",
       "      <td>0.15400</td>\n",
       "      <td>91.10000</td>\n",
       "      <td>10.60000</td>\n",
       "      <td>31.60000</td>\n",
       "      <td>7.20000</td>\n",
       "      <td>NaN</td>\n",
       "    </tr>\n",
       "    <tr>\n",
       "      <th>1</th>\n",
       "      <td>Cruz Jr.</td>\n",
       "      <td>Nelson</td>\n",
       "      <td>443558</td>\n",
       "      <td>2021</td>\n",
       "      <td>21</td>\n",
       "      <td>0.28000</td>\n",
       "      <td>0.53400</td>\n",
       "      <td>0.38800</td>\n",
       "      <td>0.36700</td>\n",
       "      <td>0.25400</td>\n",
       "      <td>93.60000</td>\n",
       "      <td>10.90000</td>\n",
       "      <td>32.10000</td>\n",
       "      <td>14.50000</td>\n",
       "      <td>NaN</td>\n",
       "    </tr>\n",
       "    <tr>\n",
       "      <th>2</th>\n",
       "      <td>Peralta</td>\n",
       "      <td>David</td>\n",
       "      <td>444482</td>\n",
       "      <td>2021</td>\n",
       "      <td>4</td>\n",
       "      <td>0.24000</td>\n",
       "      <td>0.34700</td>\n",
       "      <td>0.29600</td>\n",
       "      <td>0.31600</td>\n",
       "      <td>0.10600</td>\n",
       "      <td>89.20000</td>\n",
       "      <td>4.50000</td>\n",
       "      <td>27.00000</td>\n",
       "      <td>5.60000</td>\n",
       "      <td>NaN</td>\n",
       "    </tr>\n",
       "    <tr>\n",
       "      <th>3</th>\n",
       "      <td>Blackmon</td>\n",
       "      <td>Charlie</td>\n",
       "      <td>453568</td>\n",
       "      <td>2021</td>\n",
       "      <td>6</td>\n",
       "      <td>0.28800</td>\n",
       "      <td>0.42700</td>\n",
       "      <td>0.35600</td>\n",
       "      <td>0.37600</td>\n",
       "      <td>0.13800</td>\n",
       "      <td>87.60000</td>\n",
       "      <td>8.70000</td>\n",
       "      <td>29.90000</td>\n",
       "      <td>5.50000</td>\n",
       "      <td>NaN</td>\n",
       "    </tr>\n",
       "    <tr>\n",
       "      <th>4</th>\n",
       "      <td>McCutchen</td>\n",
       "      <td>Andrew</td>\n",
       "      <td>457705</td>\n",
       "      <td>2021</td>\n",
       "      <td>17</td>\n",
       "      <td>0.24700</td>\n",
       "      <td>0.44100</td>\n",
       "      <td>0.35800</td>\n",
       "      <td>0.36800</td>\n",
       "      <td>0.19400</td>\n",
       "      <td>88.40000</td>\n",
       "      <td>12.90000</td>\n",
       "      <td>37.00000</td>\n",
       "      <td>9.60000</td>\n",
       "      <td>NaN</td>\n",
       "    </tr>\n",
       "  </tbody>\n",
       "</table>\n",
       "</div>"
      ],
      "text/plain": [
       "   last_name  first_name  player_id  year  b_home_run     xba    xslg   xwoba  \\\n",
       "0    Cabrera      Miguel     408234  2021           7 0.22100 0.37500 0.29000   \n",
       "1   Cruz Jr.      Nelson     443558  2021          21 0.28000 0.53400 0.38800   \n",
       "2    Peralta       David     444482  2021           4 0.24000 0.34700 0.29600   \n",
       "3   Blackmon     Charlie     453568  2021           6 0.28800 0.42700 0.35600   \n",
       "4  McCutchen      Andrew     457705  2021          17 0.24700 0.44100 0.35800   \n",
       "\n",
       "     xobp    xiso  exit_velocity_avg  launch_angle_avg  sweet_spot_percent  \\\n",
       "0 0.28100 0.15400           91.10000          10.60000            31.60000   \n",
       "1 0.36700 0.25400           93.60000          10.90000            32.10000   \n",
       "2 0.31600 0.10600           89.20000           4.50000            27.00000   \n",
       "3 0.37600 0.13800           87.60000           8.70000            29.90000   \n",
       "4 0.36800 0.19400           88.40000          12.90000            37.00000   \n",
       "\n",
       "   barrel_batted_rate  Unnamed: 14  \n",
       "0             7.20000          NaN  \n",
       "1            14.50000          NaN  \n",
       "2             5.60000          NaN  \n",
       "3             5.50000          NaN  \n",
       "4             9.60000          NaN  "
      ]
     },
     "execution_count": 92,
     "metadata": {},
     "output_type": "execute_result"
    }
   ],
   "source": [
    "hr_21 = pd.read_csv('0727hr.csv')\n",
    "hr_21.head()"
   ]
  },
  {
   "cell_type": "code",
   "execution_count": 96,
   "id": "9923fff9-52b1-4a63-a9f3-680dcec54244",
   "metadata": {},
   "outputs": [
    {
     "data": {
      "text/html": [
       "<div>\n",
       "<style scoped>\n",
       "    .dataframe tbody tr th:only-of-type {\n",
       "        vertical-align: middle;\n",
       "    }\n",
       "\n",
       "    .dataframe tbody tr th {\n",
       "        vertical-align: top;\n",
       "    }\n",
       "\n",
       "    .dataframe thead th {\n",
       "        text-align: right;\n",
       "    }\n",
       "</style>\n",
       "<table border=\"1\" class=\"dataframe\">\n",
       "  <thead>\n",
       "    <tr style=\"text-align: right;\">\n",
       "      <th></th>\n",
       "      <th>player_id</th>\n",
       "      <th>year</th>\n",
       "      <th>b_home_run</th>\n",
       "    </tr>\n",
       "  </thead>\n",
       "  <tbody>\n",
       "    <tr>\n",
       "      <th>0</th>\n",
       "      <td>408234</td>\n",
       "      <td>2021</td>\n",
       "      <td>7</td>\n",
       "    </tr>\n",
       "    <tr>\n",
       "      <th>1</th>\n",
       "      <td>443558</td>\n",
       "      <td>2021</td>\n",
       "      <td>21</td>\n",
       "    </tr>\n",
       "    <tr>\n",
       "      <th>2</th>\n",
       "      <td>444482</td>\n",
       "      <td>2021</td>\n",
       "      <td>4</td>\n",
       "    </tr>\n",
       "    <tr>\n",
       "      <th>3</th>\n",
       "      <td>453568</td>\n",
       "      <td>2021</td>\n",
       "      <td>6</td>\n",
       "    </tr>\n",
       "    <tr>\n",
       "      <th>4</th>\n",
       "      <td>457705</td>\n",
       "      <td>2021</td>\n",
       "      <td>17</td>\n",
       "    </tr>\n",
       "    <tr>\n",
       "      <th>...</th>\n",
       "      <td>...</td>\n",
       "      <td>...</td>\n",
       "      <td>...</td>\n",
       "    </tr>\n",
       "    <tr>\n",
       "      <th>135</th>\n",
       "      <td>668942</td>\n",
       "      <td>2021</td>\n",
       "      <td>10</td>\n",
       "    </tr>\n",
       "    <tr>\n",
       "      <th>136</th>\n",
       "      <td>669221</td>\n",
       "      <td>2021</td>\n",
       "      <td>12</td>\n",
       "    </tr>\n",
       "    <tr>\n",
       "      <th>137</th>\n",
       "      <td>669242</td>\n",
       "      <td>2021</td>\n",
       "      <td>6</td>\n",
       "    </tr>\n",
       "    <tr>\n",
       "      <th>138</th>\n",
       "      <td>669256</td>\n",
       "      <td>2021</td>\n",
       "      <td>9</td>\n",
       "    </tr>\n",
       "    <tr>\n",
       "      <th>139</th>\n",
       "      <td>670541</td>\n",
       "      <td>2021</td>\n",
       "      <td>18</td>\n",
       "    </tr>\n",
       "  </tbody>\n",
       "</table>\n",
       "<p>140 rows × 3 columns</p>\n",
       "</div>"
      ],
      "text/plain": [
       "     player_id  year  b_home_run\n",
       "0       408234  2021           7\n",
       "1       443558  2021          21\n",
       "2       444482  2021           4\n",
       "3       453568  2021           6\n",
       "4       457705  2021          17\n",
       "..         ...   ...         ...\n",
       "135     668942  2021          10\n",
       "136     669221  2021          12\n",
       "137     669242  2021           6\n",
       "138     669256  2021           9\n",
       "139     670541  2021          18\n",
       "\n",
       "[140 rows x 3 columns]"
      ]
     },
     "execution_count": 96,
     "metadata": {},
     "output_type": "execute_result"
    }
   ],
   "source": [
    "hr = hr_21.iloc[:,2:5]\n",
    "hr"
   ]
  },
  {
   "cell_type": "code",
   "execution_count": 99,
   "id": "f4773793-ddd1-4480-9338-2cd0521919d4",
   "metadata": {},
   "outputs": [
    {
     "data": {
      "text/html": [
       "<div>\n",
       "<style scoped>\n",
       "    .dataframe tbody tr th:only-of-type {\n",
       "        vertical-align: middle;\n",
       "    }\n",
       "\n",
       "    .dataframe tbody tr th {\n",
       "        vertical-align: top;\n",
       "    }\n",
       "\n",
       "    .dataframe thead th {\n",
       "        text-align: right;\n",
       "    }\n",
       "</style>\n",
       "<table border=\"1\" class=\"dataframe\">\n",
       "  <thead>\n",
       "    <tr style=\"text-align: right;\">\n",
       "      <th></th>\n",
       "      <th>player_id</th>\n",
       "      <th>name</th>\n",
       "      <th>HR</th>\n",
       "      <th>year</th>\n",
       "      <th>b_home_run</th>\n",
       "    </tr>\n",
       "  </thead>\n",
       "  <tbody>\n",
       "    <tr>\n",
       "      <th>0</th>\n",
       "      <td>408234</td>\n",
       "      <td>Cabrera Miguel</td>\n",
       "      <td>15.26545</td>\n",
       "      <td>2021</td>\n",
       "      <td>7</td>\n",
       "    </tr>\n",
       "    <tr>\n",
       "      <th>1</th>\n",
       "      <td>443558</td>\n",
       "      <td>Cruz Jr. Nelson</td>\n",
       "      <td>29.69263</td>\n",
       "      <td>2021</td>\n",
       "      <td>21</td>\n",
       "    </tr>\n",
       "    <tr>\n",
       "      <th>2</th>\n",
       "      <td>444482</td>\n",
       "      <td>Peralta David</td>\n",
       "      <td>12.15067</td>\n",
       "      <td>2021</td>\n",
       "      <td>4</td>\n",
       "    </tr>\n",
       "    <tr>\n",
       "      <th>3</th>\n",
       "      <td>453568</td>\n",
       "      <td>Blackmon Charlie</td>\n",
       "      <td>13.97717</td>\n",
       "      <td>2021</td>\n",
       "      <td>6</td>\n",
       "    </tr>\n",
       "    <tr>\n",
       "      <th>4</th>\n",
       "      <td>457705</td>\n",
       "      <td>McCutchen Andrew</td>\n",
       "      <td>22.29783</td>\n",
       "      <td>2021</td>\n",
       "      <td>17</td>\n",
       "    </tr>\n",
       "    <tr>\n",
       "      <th>...</th>\n",
       "      <td>...</td>\n",
       "      <td>...</td>\n",
       "      <td>...</td>\n",
       "      <td>...</td>\n",
       "      <td>...</td>\n",
       "    </tr>\n",
       "    <tr>\n",
       "      <th>129</th>\n",
       "      <td>668942</td>\n",
       "      <td>Rojas Josh</td>\n",
       "      <td>15.51926</td>\n",
       "      <td>2021</td>\n",
       "      <td>10</td>\n",
       "    </tr>\n",
       "    <tr>\n",
       "      <th>130</th>\n",
       "      <td>669221</td>\n",
       "      <td>Murphy Sean</td>\n",
       "      <td>24.25504</td>\n",
       "      <td>2021</td>\n",
       "      <td>12</td>\n",
       "    </tr>\n",
       "    <tr>\n",
       "      <th>131</th>\n",
       "      <td>669242</td>\n",
       "      <td>Edman Tommy</td>\n",
       "      <td>12.56530</td>\n",
       "      <td>2021</td>\n",
       "      <td>6</td>\n",
       "    </tr>\n",
       "    <tr>\n",
       "      <th>132</th>\n",
       "      <td>669256</td>\n",
       "      <td>Solak Nick</td>\n",
       "      <td>16.82050</td>\n",
       "      <td>2021</td>\n",
       "      <td>9</td>\n",
       "    </tr>\n",
       "    <tr>\n",
       "      <th>133</th>\n",
       "      <td>670541</td>\n",
       "      <td>Alvarez Yordan</td>\n",
       "      <td>29.61247</td>\n",
       "      <td>2021</td>\n",
       "      <td>18</td>\n",
       "    </tr>\n",
       "  </tbody>\n",
       "</table>\n",
       "<p>134 rows × 5 columns</p>\n",
       "</div>"
      ],
      "text/plain": [
       "     player_id              name       HR  year  b_home_run\n",
       "0       408234    Cabrera Miguel 15.26545  2021           7\n",
       "1       443558   Cruz Jr. Nelson 29.69263  2021          21\n",
       "2       444482     Peralta David 12.15067  2021           4\n",
       "3       453568  Blackmon Charlie 13.97717  2021           6\n",
       "4       457705  McCutchen Andrew 22.29783  2021          17\n",
       "..         ...               ...      ...   ...         ...\n",
       "129     668942        Rojas Josh 15.51926  2021          10\n",
       "130     669221       Murphy Sean 24.25504  2021          12\n",
       "131     669242       Edman Tommy 12.56530  2021           6\n",
       "132     669256        Solak Nick 16.82050  2021           9\n",
       "133     670541    Alvarez Yordan 29.61247  2021          18\n",
       "\n",
       "[134 rows x 5 columns]"
      ]
     },
     "execution_count": 99,
     "metadata": {},
     "output_type": "execute_result"
    }
   ],
   "source": [
    "ensemble = pd.merge(prediction, hr)\n",
    "ensemble.to_csv('ensemble.csv')"
   ]
  },
  {
   "cell_type": "code",
   "execution_count": 100,
   "id": "c3b887a0-9258-481a-8ae9-355c3abdd731",
   "metadata": {},
   "outputs": [],
   "source": [
    "voting = pd.merge(predict_voting, hr)\n",
    "voting.to_csv('ensemble.csv')"
   ]
  },
  {
   "cell_type": "code",
   "execution_count": 101,
   "id": "f0ba8ed8-004d-4c8c-9948-b443ab57a069",
   "metadata": {},
   "outputs": [],
   "source": [
    "stacking = pd.merge(predict_stacking, hr)\n",
    "stacking.to_csv('stacking.csv')"
   ]
  },
  {
   "cell_type": "code",
   "execution_count": null,
   "id": "05b4809d-72c0-444a-9f83-ab51f3bbb64d",
   "metadata": {},
   "outputs": [],
   "source": []
  }
 ],
 "metadata": {
  "kernelspec": {
   "display_name": "Python 3",
   "language": "python",
   "name": "python3"
  },
  "language_info": {
   "codemirror_mode": {
    "name": "ipython",
    "version": 3
   },
   "file_extension": ".py",
   "mimetype": "text/x-python",
   "name": "python",
   "nbconvert_exporter": "python",
   "pygments_lexer": "ipython3",
   "version": "3.8.8"
  }
 },
 "nbformat": 4,
 "nbformat_minor": 5
}
